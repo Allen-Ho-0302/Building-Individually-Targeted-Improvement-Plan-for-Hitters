{
 "cells": [
  {
   "cell_type": "markdown",
   "metadata": {},
   "source": [
    "## Introduction\n",
    "\n",
    "Group players according to their ability to do damage on contact (the Blast practice data). Then build individually targeted improvement plans for all of the hitters by evaluating their in-game performance (xwOBA). "
   ]
  },
  {
   "cell_type": "markdown",
   "metadata": {},
   "source": [
    "## Method\n",
    "\n",
    "Data include pitch level Trackman data from games and swing level Blast Motion data from practice. \n",
    "\n",
    "Performed cluster analysis on practice data (Blast) and came up with four groups. \n",
    "\n",
    "To make development plans for them, I had to see the characteristics of these four groups and their respective in-game performance. xwOBA for those contact plays is my choice for evaluation."
   ]
  },
  {
   "cell_type": "markdown",
   "metadata": {},
   "source": [
    "## Exploratory Data Analysis"
   ]
  },
  {
   "cell_type": "code",
   "execution_count": 1,
   "metadata": {},
   "outputs": [
    {
     "name": "stderr",
     "output_type": "stream",
     "text": [
      "C:\\Users\\allen\\anaconda3\\lib\\site-packages\\sklearn\\externals\\six.py:31: FutureWarning: The module is deprecated in version 0.21 and will be removed in version 0.23 since we've dropped support for Python 2.7. Please rely on the official version of six (https://pypi.org/project/six/).\n",
      "  \"(https://pypi.org/project/six/).\", FutureWarning)\n",
      "C:\\Users\\allen\\anaconda3\\lib\\site-packages\\sklearn\\utils\\deprecation.py:144: FutureWarning: The sklearn.neighbors.base module is  deprecated in version 0.22 and will be removed in version 0.24. The corresponding classes / functions should instead be imported from sklearn.neighbors. Anything that cannot be imported from sklearn.neighbors is now part of the private API.\n",
      "  warnings.warn(message, FutureWarning)\n"
     ]
    }
   ],
   "source": [
    "import pandas as pd\n",
    "import numpy as np\n",
    "import seaborn as sns\n",
    "import matplotlib.pyplot as plt\n",
    "import time as time\n",
    "from sklearn.preprocessing import StandardScaler\n",
    "from sklearn.cluster import KMeans\n",
    "from sklearn.decomposition import PCA\n",
    "from IPython.display import display, HTML\n",
    "from sklearn.tree import _tree, DecisionTreeClassifier\n",
    "from imblearn.pipeline import Pipeline\n",
    "from sklearn.preprocessing import StandardScaler\n",
    "from sklearn.model_selection import cross_validate\n",
    "from sklearn.metrics import f1_score, accuracy_score, log_loss, roc_auc_score, make_scorer\n",
    "from sklearn.linear_model import LogisticRegression\n",
    "from sklearn.neighbors import KNeighborsClassifier\n",
    "from sklearn.svm import SVC\n",
    "from sklearn.tree import DecisionTreeClassifier\n",
    "from sklearn.ensemble import RandomForestClassifier, GradientBoostingClassifier\n",
    "from xgboost import XGBClassifier\n",
    "import time as time"
   ]
  },
  {
   "cell_type": "code",
   "execution_count": 2,
   "metadata": {},
   "outputs": [],
   "source": [
    "df_trackman = pd.read_csv(r'C:\\Users\\allen\\Desktop\\Baseball Analytics Coding Task\\trackman_data.csv')\n",
    "df_blast = pd.read_csv(r'C:\\Users\\allen\\Desktop\\Baseball Analytics Coding Task\\blast_data.csv')"
   ]
  },
  {
   "cell_type": "markdown",
   "metadata": {},
   "source": [
    "### Top 5 rows of the pandas dataframe with the pandas head() method."
   ]
  },
  {
   "cell_type": "code",
   "execution_count": 3,
   "metadata": {
    "scrolled": true
   },
   "outputs": [
    {
     "data": {
      "text/html": [
       "<div>\n",
       "<style scoped>\n",
       "    .dataframe tbody tr th:only-of-type {\n",
       "        vertical-align: middle;\n",
       "    }\n",
       "\n",
       "    .dataframe tbody tr th {\n",
       "        vertical-align: top;\n",
       "    }\n",
       "\n",
       "    .dataframe thead th {\n",
       "        text-align: right;\n",
       "    }\n",
       "</style>\n",
       "<table border=\"1\" class=\"dataframe\">\n",
       "  <thead>\n",
       "    <tr style=\"text-align: right;\">\n",
       "      <th></th>\n",
       "      <th>BatterId</th>\n",
       "      <th>Date</th>\n",
       "      <th>AttackAngle</th>\n",
       "      <th>BatSpeed</th>\n",
       "      <th>Connection</th>\n",
       "      <th>EarlyConnection</th>\n",
       "      <th>Handedness</th>\n",
       "      <th>PlanarEfficiency</th>\n",
       "      <th>RotationalAcceleration</th>\n",
       "    </tr>\n",
       "  </thead>\n",
       "  <tbody>\n",
       "    <tr>\n",
       "      <th>0</th>\n",
       "      <td>2e612ce7</td>\n",
       "      <td>2019-01-02</td>\n",
       "      <td>0.111074</td>\n",
       "      <td>30.490201</td>\n",
       "      <td>1.428424</td>\n",
       "      <td>1.507817</td>\n",
       "      <td>5</td>\n",
       "      <td>0.727937</td>\n",
       "      <td>145.170874</td>\n",
       "    </tr>\n",
       "    <tr>\n",
       "      <th>1</th>\n",
       "      <td>2e612ce7</td>\n",
       "      <td>2019-01-02</td>\n",
       "      <td>0.222480</td>\n",
       "      <td>29.838648</td>\n",
       "      <td>1.358282</td>\n",
       "      <td>1.442910</td>\n",
       "      <td>5</td>\n",
       "      <td>0.761305</td>\n",
       "      <td>124.750839</td>\n",
       "    </tr>\n",
       "    <tr>\n",
       "      <th>2</th>\n",
       "      <td>2e612ce7</td>\n",
       "      <td>2019-01-02</td>\n",
       "      <td>0.126757</td>\n",
       "      <td>29.619088</td>\n",
       "      <td>1.339027</td>\n",
       "      <td>1.466272</td>\n",
       "      <td>5</td>\n",
       "      <td>0.713503</td>\n",
       "      <td>119.264051</td>\n",
       "    </tr>\n",
       "    <tr>\n",
       "      <th>3</th>\n",
       "      <td>2e612ce7</td>\n",
       "      <td>2019-01-02</td>\n",
       "      <td>0.248148</td>\n",
       "      <td>29.013107</td>\n",
       "      <td>1.422598</td>\n",
       "      <td>1.557318</td>\n",
       "      <td>5</td>\n",
       "      <td>0.683808</td>\n",
       "      <td>125.425053</td>\n",
       "    </tr>\n",
       "    <tr>\n",
       "      <th>4</th>\n",
       "      <td>367fb7f9</td>\n",
       "      <td>2019-01-06</td>\n",
       "      <td>0.149912</td>\n",
       "      <td>31.725814</td>\n",
       "      <td>1.501380</td>\n",
       "      <td>1.344469</td>\n",
       "      <td>5</td>\n",
       "      <td>0.771255</td>\n",
       "      <td>182.840113</td>\n",
       "    </tr>\n",
       "  </tbody>\n",
       "</table>\n",
       "</div>"
      ],
      "text/plain": [
       "   BatterId        Date  AttackAngle   BatSpeed  Connection  EarlyConnection  \\\n",
       "0  2e612ce7  2019-01-02     0.111074  30.490201    1.428424         1.507817   \n",
       "1  2e612ce7  2019-01-02     0.222480  29.838648    1.358282         1.442910   \n",
       "2  2e612ce7  2019-01-02     0.126757  29.619088    1.339027         1.466272   \n",
       "3  2e612ce7  2019-01-02     0.248148  29.013107    1.422598         1.557318   \n",
       "4  367fb7f9  2019-01-06     0.149912  31.725814    1.501380         1.344469   \n",
       "\n",
       "   Handedness  PlanarEfficiency  RotationalAcceleration  \n",
       "0           5          0.727937              145.170874  \n",
       "1           5          0.761305              124.750839  \n",
       "2           5          0.713503              119.264051  \n",
       "3           5          0.683808              125.425053  \n",
       "4           5          0.771255              182.840113  "
      ]
     },
     "execution_count": 3,
     "metadata": {},
     "output_type": "execute_result"
    }
   ],
   "source": [
    "df_blast.head()"
   ]
  },
  {
   "cell_type": "code",
   "execution_count": 4,
   "metadata": {},
   "outputs": [
    {
     "data": {
      "text/html": [
       "<div>\n",
       "<style scoped>\n",
       "    .dataframe tbody tr th:only-of-type {\n",
       "        vertical-align: middle;\n",
       "    }\n",
       "\n",
       "    .dataframe tbody tr th {\n",
       "        vertical-align: top;\n",
       "    }\n",
       "\n",
       "    .dataframe thead th {\n",
       "        text-align: right;\n",
       "    }\n",
       "</style>\n",
       "<table border=\"1\" class=\"dataframe\">\n",
       "  <thead>\n",
       "    <tr style=\"text-align: right;\">\n",
       "      <th></th>\n",
       "      <th>Date</th>\n",
       "      <th>Inning</th>\n",
       "      <th>Top</th>\n",
       "      <th>Outs</th>\n",
       "      <th>Balls</th>\n",
       "      <th>Strikes</th>\n",
       "      <th>PitcherId</th>\n",
       "      <th>BatterId</th>\n",
       "      <th>Bats</th>\n",
       "      <th>Throws</th>\n",
       "      <th>...</th>\n",
       "      <th>PlateSide</th>\n",
       "      <th>PlateHeight</th>\n",
       "      <th>ExitSpeed</th>\n",
       "      <th>VertAngle</th>\n",
       "      <th>HorzAngle</th>\n",
       "      <th>HitSpinRate</th>\n",
       "      <th>PitchType</th>\n",
       "      <th>PitchCall</th>\n",
       "      <th>PlayResult</th>\n",
       "      <th>HitType</th>\n",
       "    </tr>\n",
       "  </thead>\n",
       "  <tbody>\n",
       "    <tr>\n",
       "      <th>0</th>\n",
       "      <td>2019-04-30</td>\n",
       "      <td>4</td>\n",
       "      <td>Top</td>\n",
       "      <td>1</td>\n",
       "      <td>0</td>\n",
       "      <td>0</td>\n",
       "      <td>710e55d6</td>\n",
       "      <td>f70b0d82</td>\n",
       "      <td>Right</td>\n",
       "      <td>Right</td>\n",
       "      <td>...</td>\n",
       "      <td>0.085674</td>\n",
       "      <td>2.463371</td>\n",
       "      <td>NaN</td>\n",
       "      <td>NaN</td>\n",
       "      <td>NaN</td>\n",
       "      <td>NaN</td>\n",
       "      <td>Curveball</td>\n",
       "      <td>StrikeCalled</td>\n",
       "      <td>Undefined</td>\n",
       "      <td>Undefined</td>\n",
       "    </tr>\n",
       "    <tr>\n",
       "      <th>1</th>\n",
       "      <td>2019-04-30</td>\n",
       "      <td>4</td>\n",
       "      <td>Top</td>\n",
       "      <td>1</td>\n",
       "      <td>0</td>\n",
       "      <td>1</td>\n",
       "      <td>710e55d6</td>\n",
       "      <td>f70b0d82</td>\n",
       "      <td>Right</td>\n",
       "      <td>Right</td>\n",
       "      <td>...</td>\n",
       "      <td>0.646820</td>\n",
       "      <td>2.623517</td>\n",
       "      <td>NaN</td>\n",
       "      <td>NaN</td>\n",
       "      <td>NaN</td>\n",
       "      <td>NaN</td>\n",
       "      <td>Fastball</td>\n",
       "      <td>FoulBall</td>\n",
       "      <td>Undefined</td>\n",
       "      <td>Undefined</td>\n",
       "    </tr>\n",
       "    <tr>\n",
       "      <th>2</th>\n",
       "      <td>2019-04-30</td>\n",
       "      <td>4</td>\n",
       "      <td>Top</td>\n",
       "      <td>1</td>\n",
       "      <td>0</td>\n",
       "      <td>2</td>\n",
       "      <td>710e55d6</td>\n",
       "      <td>f70b0d82</td>\n",
       "      <td>Right</td>\n",
       "      <td>Right</td>\n",
       "      <td>...</td>\n",
       "      <td>0.304825</td>\n",
       "      <td>1.252048</td>\n",
       "      <td>NaN</td>\n",
       "      <td>NaN</td>\n",
       "      <td>NaN</td>\n",
       "      <td>NaN</td>\n",
       "      <td>Curveball</td>\n",
       "      <td>BallCalled</td>\n",
       "      <td>Undefined</td>\n",
       "      <td>Undefined</td>\n",
       "    </tr>\n",
       "    <tr>\n",
       "      <th>3</th>\n",
       "      <td>2019-05-06</td>\n",
       "      <td>5</td>\n",
       "      <td>Bottom</td>\n",
       "      <td>0</td>\n",
       "      <td>0</td>\n",
       "      <td>0</td>\n",
       "      <td>bf435272</td>\n",
       "      <td>b4417992</td>\n",
       "      <td>Right</td>\n",
       "      <td>Right</td>\n",
       "      <td>...</td>\n",
       "      <td>1.000660</td>\n",
       "      <td>3.386153</td>\n",
       "      <td>NaN</td>\n",
       "      <td>NaN</td>\n",
       "      <td>NaN</td>\n",
       "      <td>NaN</td>\n",
       "      <td>Fastball</td>\n",
       "      <td>BallCalled</td>\n",
       "      <td>Undefined</td>\n",
       "      <td>Undefined</td>\n",
       "    </tr>\n",
       "    <tr>\n",
       "      <th>4</th>\n",
       "      <td>2019-05-06</td>\n",
       "      <td>5</td>\n",
       "      <td>Bottom</td>\n",
       "      <td>0</td>\n",
       "      <td>1</td>\n",
       "      <td>0</td>\n",
       "      <td>bf435272</td>\n",
       "      <td>b4417992</td>\n",
       "      <td>Right</td>\n",
       "      <td>Right</td>\n",
       "      <td>...</td>\n",
       "      <td>0.582892</td>\n",
       "      <td>2.981364</td>\n",
       "      <td>NaN</td>\n",
       "      <td>NaN</td>\n",
       "      <td>NaN</td>\n",
       "      <td>NaN</td>\n",
       "      <td>Fastball</td>\n",
       "      <td>StrikeSwinging</td>\n",
       "      <td>Undefined</td>\n",
       "      <td>Undefined</td>\n",
       "    </tr>\n",
       "  </tbody>\n",
       "</table>\n",
       "<p>5 rows × 23 columns</p>\n",
       "</div>"
      ],
      "text/plain": [
       "         Date  Inning     Top  Outs  Balls  Strikes PitcherId  BatterId  \\\n",
       "0  2019-04-30       4     Top     1      0        0  710e55d6  f70b0d82   \n",
       "1  2019-04-30       4     Top     1      0        1  710e55d6  f70b0d82   \n",
       "2  2019-04-30       4     Top     1      0        2  710e55d6  f70b0d82   \n",
       "3  2019-05-06       5  Bottom     0      0        0  bf435272  b4417992   \n",
       "4  2019-05-06       5  Bottom     0      1        0  bf435272  b4417992   \n",
       "\n",
       "    Bats Throws  ...  PlateSide  PlateHeight  ExitSpeed  VertAngle  HorzAngle  \\\n",
       "0  Right  Right  ...   0.085674     2.463371        NaN        NaN        NaN   \n",
       "1  Right  Right  ...   0.646820     2.623517        NaN        NaN        NaN   \n",
       "2  Right  Right  ...   0.304825     1.252048        NaN        NaN        NaN   \n",
       "3  Right  Right  ...   1.000660     3.386153        NaN        NaN        NaN   \n",
       "4  Right  Right  ...   0.582892     2.981364        NaN        NaN        NaN   \n",
       "\n",
       "   HitSpinRate  PitchType       PitchCall  PlayResult    HitType  \n",
       "0          NaN  Curveball    StrikeCalled   Undefined  Undefined  \n",
       "1          NaN   Fastball        FoulBall   Undefined  Undefined  \n",
       "2          NaN  Curveball      BallCalled   Undefined  Undefined  \n",
       "3          NaN   Fastball      BallCalled   Undefined  Undefined  \n",
       "4          NaN   Fastball  StrikeSwinging   Undefined  Undefined  \n",
       "\n",
       "[5 rows x 23 columns]"
      ]
     },
     "execution_count": 4,
     "metadata": {},
     "output_type": "execute_result"
    }
   ],
   "source": [
    "df_trackman.head()"
   ]
  },
  {
   "cell_type": "markdown",
   "metadata": {},
   "source": [
    "### Summary of the dataframe with the pandas info() method."
   ]
  },
  {
   "cell_type": "code",
   "execution_count": 5,
   "metadata": {},
   "outputs": [
    {
     "name": "stdout",
     "output_type": "stream",
     "text": [
      "<class 'pandas.core.frame.DataFrame'>\n",
      "RangeIndex: 109443 entries, 0 to 109442\n",
      "Data columns (total 9 columns):\n",
      " #   Column                  Non-Null Count   Dtype  \n",
      "---  ------                  --------------   -----  \n",
      " 0   BatterId                109443 non-null  object \n",
      " 1   Date                    109443 non-null  object \n",
      " 2   AttackAngle             109443 non-null  float64\n",
      " 3   BatSpeed                109443 non-null  float64\n",
      " 4   Connection              109443 non-null  float64\n",
      " 5   EarlyConnection         109443 non-null  float64\n",
      " 6   Handedness              109443 non-null  int64  \n",
      " 7   PlanarEfficiency        109443 non-null  float64\n",
      " 8   RotationalAcceleration  109443 non-null  float64\n",
      "dtypes: float64(6), int64(1), object(2)\n",
      "memory usage: 7.5+ MB\n"
     ]
    }
   ],
   "source": [
    "df_blast.info()"
   ]
  },
  {
   "cell_type": "code",
   "execution_count": 6,
   "metadata": {
    "scrolled": true
   },
   "outputs": [
    {
     "name": "stdout",
     "output_type": "stream",
     "text": [
      "<class 'pandas.core.frame.DataFrame'>\n",
      "RangeIndex: 74910 entries, 0 to 74909\n",
      "Data columns (total 23 columns):\n",
      " #   Column       Non-Null Count  Dtype  \n",
      "---  ------       --------------  -----  \n",
      " 0   Date         74910 non-null  object \n",
      " 1   Inning       74910 non-null  int64  \n",
      " 2   Top          74910 non-null  object \n",
      " 3   Outs         74910 non-null  int64  \n",
      " 4   Balls        74910 non-null  int64  \n",
      " 5   Strikes      74910 non-null  int64  \n",
      " 6   PitcherId    74910 non-null  object \n",
      " 7   BatterId     74910 non-null  object \n",
      " 8   Bats         74910 non-null  object \n",
      " 9   Throws       74910 non-null  object \n",
      " 10  PitchNumber  74910 non-null  int64  \n",
      " 11  PAofInning   74910 non-null  int64  \n",
      " 12  PitchofPA    74910 non-null  int64  \n",
      " 13  PlateSide    74296 non-null  float64\n",
      " 14  PlateHeight  74296 non-null  float64\n",
      " 15  ExitSpeed    18227 non-null  float64\n",
      " 16  VertAngle    18227 non-null  float64\n",
      " 17  HorzAngle    18227 non-null  float64\n",
      " 18  HitSpinRate  13723 non-null  float64\n",
      " 19  PitchType    74910 non-null  object \n",
      " 20  PitchCall    74910 non-null  object \n",
      " 21  PlayResult   74910 non-null  object \n",
      " 22  HitType      74910 non-null  object \n",
      "dtypes: float64(6), int64(7), object(10)\n",
      "memory usage: 13.1+ MB\n"
     ]
    }
   ],
   "source": [
    "df_trackman.info()"
   ]
  },
  {
   "cell_type": "markdown",
   "metadata": {},
   "source": [
    "### Descriptive statistics of the dataframe with the pandas describe() method."
   ]
  },
  {
   "cell_type": "code",
   "execution_count": 7,
   "metadata": {},
   "outputs": [
    {
     "data": {
      "text/html": [
       "<div>\n",
       "<style scoped>\n",
       "    .dataframe tbody tr th:only-of-type {\n",
       "        vertical-align: middle;\n",
       "    }\n",
       "\n",
       "    .dataframe tbody tr th {\n",
       "        vertical-align: top;\n",
       "    }\n",
       "\n",
       "    .dataframe thead th {\n",
       "        text-align: right;\n",
       "    }\n",
       "</style>\n",
       "<table border=\"1\" class=\"dataframe\">\n",
       "  <thead>\n",
       "    <tr style=\"text-align: right;\">\n",
       "      <th></th>\n",
       "      <th>AttackAngle</th>\n",
       "      <th>BatSpeed</th>\n",
       "      <th>Connection</th>\n",
       "      <th>EarlyConnection</th>\n",
       "      <th>Handedness</th>\n",
       "      <th>PlanarEfficiency</th>\n",
       "      <th>RotationalAcceleration</th>\n",
       "    </tr>\n",
       "  </thead>\n",
       "  <tbody>\n",
       "    <tr>\n",
       "      <th>count</th>\n",
       "      <td>109443.000000</td>\n",
       "      <td>109443.000000</td>\n",
       "      <td>109443.000000</td>\n",
       "      <td>109443.000000</td>\n",
       "      <td>109443.000000</td>\n",
       "      <td>109443.000000</td>\n",
       "      <td>109443.000000</td>\n",
       "    </tr>\n",
       "    <tr>\n",
       "      <th>mean</th>\n",
       "      <td>0.198839</td>\n",
       "      <td>30.868134</td>\n",
       "      <td>1.420197</td>\n",
       "      <td>1.647542</td>\n",
       "      <td>4.632146</td>\n",
       "      <td>0.681738</td>\n",
       "      <td>129.122377</td>\n",
       "    </tr>\n",
       "    <tr>\n",
       "      <th>std</th>\n",
       "      <td>0.132947</td>\n",
       "      <td>2.949614</td>\n",
       "      <td>0.164880</td>\n",
       "      <td>0.262527</td>\n",
       "      <td>0.482223</td>\n",
       "      <td>0.119521</td>\n",
       "      <td>57.052297</td>\n",
       "    </tr>\n",
       "    <tr>\n",
       "      <th>min</th>\n",
       "      <td>-0.966112</td>\n",
       "      <td>13.415024</td>\n",
       "      <td>0.528269</td>\n",
       "      <td>0.543694</td>\n",
       "      <td>4.000000</td>\n",
       "      <td>0.255843</td>\n",
       "      <td>0.022720</td>\n",
       "    </tr>\n",
       "    <tr>\n",
       "      <th>25%</th>\n",
       "      <td>0.121744</td>\n",
       "      <td>29.370584</td>\n",
       "      <td>1.308698</td>\n",
       "      <td>1.468902</td>\n",
       "      <td>4.000000</td>\n",
       "      <td>0.606437</td>\n",
       "      <td>88.562392</td>\n",
       "    </tr>\n",
       "    <tr>\n",
       "      <th>50%</th>\n",
       "      <td>0.206185</td>\n",
       "      <td>31.254110</td>\n",
       "      <td>1.421837</td>\n",
       "      <td>1.638253</td>\n",
       "      <td>5.000000</td>\n",
       "      <td>0.694052</td>\n",
       "      <td>128.994403</td>\n",
       "    </tr>\n",
       "    <tr>\n",
       "      <th>75%</th>\n",
       "      <td>0.284448</td>\n",
       "      <td>32.776712</td>\n",
       "      <td>1.532932</td>\n",
       "      <td>1.821757</td>\n",
       "      <td>5.000000</td>\n",
       "      <td>0.770081</td>\n",
       "      <td>166.977744</td>\n",
       "    </tr>\n",
       "    <tr>\n",
       "      <th>max</th>\n",
       "      <td>0.987156</td>\n",
       "      <td>40.152891</td>\n",
       "      <td>2.211674</td>\n",
       "      <td>2.788933</td>\n",
       "      <td>5.000000</td>\n",
       "      <td>0.995553</td>\n",
       "      <td>400.534761</td>\n",
       "    </tr>\n",
       "  </tbody>\n",
       "</table>\n",
       "</div>"
      ],
      "text/plain": [
       "         AttackAngle       BatSpeed     Connection  EarlyConnection  \\\n",
       "count  109443.000000  109443.000000  109443.000000    109443.000000   \n",
       "mean        0.198839      30.868134       1.420197         1.647542   \n",
       "std         0.132947       2.949614       0.164880         0.262527   \n",
       "min        -0.966112      13.415024       0.528269         0.543694   \n",
       "25%         0.121744      29.370584       1.308698         1.468902   \n",
       "50%         0.206185      31.254110       1.421837         1.638253   \n",
       "75%         0.284448      32.776712       1.532932         1.821757   \n",
       "max         0.987156      40.152891       2.211674         2.788933   \n",
       "\n",
       "          Handedness  PlanarEfficiency  RotationalAcceleration  \n",
       "count  109443.000000     109443.000000           109443.000000  \n",
       "mean        4.632146          0.681738              129.122377  \n",
       "std         0.482223          0.119521               57.052297  \n",
       "min         4.000000          0.255843                0.022720  \n",
       "25%         4.000000          0.606437               88.562392  \n",
       "50%         5.000000          0.694052              128.994403  \n",
       "75%         5.000000          0.770081              166.977744  \n",
       "max         5.000000          0.995553              400.534761  "
      ]
     },
     "execution_count": 7,
     "metadata": {},
     "output_type": "execute_result"
    }
   ],
   "source": [
    "df_blast.describe()"
   ]
  },
  {
   "cell_type": "code",
   "execution_count": 8,
   "metadata": {},
   "outputs": [
    {
     "data": {
      "text/html": [
       "<div>\n",
       "<style scoped>\n",
       "    .dataframe tbody tr th:only-of-type {\n",
       "        vertical-align: middle;\n",
       "    }\n",
       "\n",
       "    .dataframe tbody tr th {\n",
       "        vertical-align: top;\n",
       "    }\n",
       "\n",
       "    .dataframe thead th {\n",
       "        text-align: right;\n",
       "    }\n",
       "</style>\n",
       "<table border=\"1\" class=\"dataframe\">\n",
       "  <thead>\n",
       "    <tr style=\"text-align: right;\">\n",
       "      <th></th>\n",
       "      <th>Inning</th>\n",
       "      <th>Outs</th>\n",
       "      <th>Balls</th>\n",
       "      <th>Strikes</th>\n",
       "      <th>PitchNumber</th>\n",
       "      <th>PAofInning</th>\n",
       "      <th>PitchofPA</th>\n",
       "      <th>PlateSide</th>\n",
       "      <th>PlateHeight</th>\n",
       "      <th>ExitSpeed</th>\n",
       "      <th>VertAngle</th>\n",
       "      <th>HorzAngle</th>\n",
       "      <th>HitSpinRate</th>\n",
       "    </tr>\n",
       "  </thead>\n",
       "  <tbody>\n",
       "    <tr>\n",
       "      <th>count</th>\n",
       "      <td>74910.000000</td>\n",
       "      <td>74910.000000</td>\n",
       "      <td>74910.000000</td>\n",
       "      <td>74910.000000</td>\n",
       "      <td>74910.000000</td>\n",
       "      <td>74910.000000</td>\n",
       "      <td>74910.000000</td>\n",
       "      <td>74296.000000</td>\n",
       "      <td>74296.000000</td>\n",
       "      <td>18227.000000</td>\n",
       "      <td>18227.000000</td>\n",
       "      <td>18227.000000</td>\n",
       "      <td>13723.000000</td>\n",
       "    </tr>\n",
       "    <tr>\n",
       "      <th>mean</th>\n",
       "      <td>4.981298</td>\n",
       "      <td>0.984448</td>\n",
       "      <td>0.888186</td>\n",
       "      <td>0.873048</td>\n",
       "      <td>147.349766</td>\n",
       "      <td>2.888960</td>\n",
       "      <td>2.886357</td>\n",
       "      <td>0.014915</td>\n",
       "      <td>2.411648</td>\n",
       "      <td>81.687629</td>\n",
       "      <td>19.018099</td>\n",
       "      <td>2.859711</td>\n",
       "      <td>3312.482751</td>\n",
       "    </tr>\n",
       "    <tr>\n",
       "      <th>std</th>\n",
       "      <td>2.605596</td>\n",
       "      <td>0.813463</td>\n",
       "      <td>0.971565</td>\n",
       "      <td>0.826324</td>\n",
       "      <td>88.518225</td>\n",
       "      <td>1.643858</td>\n",
       "      <td>1.721027</td>\n",
       "      <td>0.877916</td>\n",
       "      <td>0.972366</td>\n",
       "      <td>14.076067</td>\n",
       "      <td>25.531867</td>\n",
       "      <td>82.415726</td>\n",
       "      <td>1381.226842</td>\n",
       "    </tr>\n",
       "    <tr>\n",
       "      <th>min</th>\n",
       "      <td>1.000000</td>\n",
       "      <td>0.000000</td>\n",
       "      <td>0.000000</td>\n",
       "      <td>0.000000</td>\n",
       "      <td>1.000000</td>\n",
       "      <td>0.000000</td>\n",
       "      <td>1.000000</td>\n",
       "      <td>-4.500745</td>\n",
       "      <td>-2.378100</td>\n",
       "      <td>6.564697</td>\n",
       "      <td>-84.952507</td>\n",
       "      <td>-179.997831</td>\n",
       "      <td>494.330773</td>\n",
       "    </tr>\n",
       "    <tr>\n",
       "      <th>25%</th>\n",
       "      <td>3.000000</td>\n",
       "      <td>0.000000</td>\n",
       "      <td>0.000000</td>\n",
       "      <td>0.000000</td>\n",
       "      <td>72.000000</td>\n",
       "      <td>2.000000</td>\n",
       "      <td>1.000000</td>\n",
       "      <td>-0.573740</td>\n",
       "      <td>1.786823</td>\n",
       "      <td>71.573944</td>\n",
       "      <td>2.136348</td>\n",
       "      <td>-28.336933</td>\n",
       "      <td>2153.466002</td>\n",
       "    </tr>\n",
       "    <tr>\n",
       "      <th>50%</th>\n",
       "      <td>5.000000</td>\n",
       "      <td>1.000000</td>\n",
       "      <td>1.000000</td>\n",
       "      <td>1.000000</td>\n",
       "      <td>145.000000</td>\n",
       "      <td>3.000000</td>\n",
       "      <td>3.000000</td>\n",
       "      <td>0.017137</td>\n",
       "      <td>2.416820</td>\n",
       "      <td>81.331715</td>\n",
       "      <td>19.695477</td>\n",
       "      <td>0.720043</td>\n",
       "      <td>3376.295661</td>\n",
       "    </tr>\n",
       "    <tr>\n",
       "      <th>75%</th>\n",
       "      <td>7.000000</td>\n",
       "      <td>2.000000</td>\n",
       "      <td>2.000000</td>\n",
       "      <td>2.000000</td>\n",
       "      <td>217.000000</td>\n",
       "      <td>4.000000</td>\n",
       "      <td>4.000000</td>\n",
       "      <td>0.600497</td>\n",
       "      <td>3.038322</td>\n",
       "      <td>93.363302</td>\n",
       "      <td>36.910870</td>\n",
       "      <td>30.872114</td>\n",
       "      <td>4444.047573</td>\n",
       "    </tr>\n",
       "    <tr>\n",
       "      <th>max</th>\n",
       "      <td>15.000000</td>\n",
       "      <td>2.000000</td>\n",
       "      <td>3.000000</td>\n",
       "      <td>2.000000</td>\n",
       "      <td>445.000000</td>\n",
       "      <td>13.000000</td>\n",
       "      <td>24.000000</td>\n",
       "      <td>4.597175</td>\n",
       "      <td>7.992811</td>\n",
       "      <td>116.317635</td>\n",
       "      <td>88.910532</td>\n",
       "      <td>179.933462</td>\n",
       "      <td>7093.587840</td>\n",
       "    </tr>\n",
       "  </tbody>\n",
       "</table>\n",
       "</div>"
      ],
      "text/plain": [
       "             Inning          Outs         Balls       Strikes   PitchNumber  \\\n",
       "count  74910.000000  74910.000000  74910.000000  74910.000000  74910.000000   \n",
       "mean       4.981298      0.984448      0.888186      0.873048    147.349766   \n",
       "std        2.605596      0.813463      0.971565      0.826324     88.518225   \n",
       "min        1.000000      0.000000      0.000000      0.000000      1.000000   \n",
       "25%        3.000000      0.000000      0.000000      0.000000     72.000000   \n",
       "50%        5.000000      1.000000      1.000000      1.000000    145.000000   \n",
       "75%        7.000000      2.000000      2.000000      2.000000    217.000000   \n",
       "max       15.000000      2.000000      3.000000      2.000000    445.000000   \n",
       "\n",
       "         PAofInning     PitchofPA     PlateSide   PlateHeight     ExitSpeed  \\\n",
       "count  74910.000000  74910.000000  74296.000000  74296.000000  18227.000000   \n",
       "mean       2.888960      2.886357      0.014915      2.411648     81.687629   \n",
       "std        1.643858      1.721027      0.877916      0.972366     14.076067   \n",
       "min        0.000000      1.000000     -4.500745     -2.378100      6.564697   \n",
       "25%        2.000000      1.000000     -0.573740      1.786823     71.573944   \n",
       "50%        3.000000      3.000000      0.017137      2.416820     81.331715   \n",
       "75%        4.000000      4.000000      0.600497      3.038322     93.363302   \n",
       "max       13.000000     24.000000      4.597175      7.992811    116.317635   \n",
       "\n",
       "          VertAngle     HorzAngle   HitSpinRate  \n",
       "count  18227.000000  18227.000000  13723.000000  \n",
       "mean      19.018099      2.859711   3312.482751  \n",
       "std       25.531867     82.415726   1381.226842  \n",
       "min      -84.952507   -179.997831    494.330773  \n",
       "25%        2.136348    -28.336933   2153.466002  \n",
       "50%       19.695477      0.720043   3376.295661  \n",
       "75%       36.910870     30.872114   4444.047573  \n",
       "max       88.910532    179.933462   7093.587840  "
      ]
     },
     "execution_count": 8,
     "metadata": {},
     "output_type": "execute_result"
    }
   ],
   "source": [
    "df_trackman.describe()"
   ]
  },
  {
   "cell_type": "markdown",
   "metadata": {},
   "source": [
    "### Review and deal with NaN type values"
   ]
  },
  {
   "cell_type": "code",
   "execution_count": 9,
   "metadata": {},
   "outputs": [
    {
     "data": {
      "text/plain": [
       "[]"
      ]
     },
     "execution_count": 9,
     "metadata": {},
     "output_type": "execute_result"
    }
   ],
   "source": [
    "df_blast.columns[df_blast.isna().any()].tolist()"
   ]
  },
  {
   "cell_type": "markdown",
   "metadata": {},
   "source": [
    "Quite satisfying that the df_blast dataset that I decide to do clustering around does not contain NaN value"
   ]
  },
  {
   "cell_type": "code",
   "execution_count": 10,
   "metadata": {},
   "outputs": [
    {
     "data": {
      "text/plain": [
       "['PlateSide',\n",
       " 'PlateHeight',\n",
       " 'ExitSpeed',\n",
       " 'VertAngle',\n",
       " 'HorzAngle',\n",
       " 'HitSpinRate']"
      ]
     },
     "execution_count": 10,
     "metadata": {},
     "output_type": "execute_result"
    }
   ],
   "source": [
    "df_trackman.columns[df_trackman.isna().any()].tolist()"
   ]
  },
  {
   "cell_type": "markdown",
   "metadata": {},
   "source": [
    "To properly evaluate the damage done by each batter, I will come up with the xwOBA value for each plate appearance. xwOBA is a rate stat like batting average or slugging percentage, but uses weights that accurately represent the relative value of each type of outcome. Fangraphs has these values tabulated. With an out worth 0, a single is worth around 0.88, for example. If I take those weights and use them with my hit probabilities, I can calculate an expected wOBA, or xwOBA.\n",
    "\n",
    "MLB Blogs chose not to include batted ball spray angle in their model of xwOBA, claiming they haven't found evidence that it contributes significantly to a better or worse outcome. They may well be right -- just to reiterate, I'm including it to see how well outcomes are modeled by all the things a hitter can control. It might turn out that their model outperforms mine, or is better at predicting how a player performs in the future. \n",
    "\n",
    "I will only include rows that contain 'ExitSpeed', 'VertAngle', 'HorzAngle'value since those are the ones that are core of the xwOBA value. "
   ]
  },
  {
   "cell_type": "markdown",
   "metadata": {},
   "source": [
    "### Probability Density Function"
   ]
  },
  {
   "cell_type": "markdown",
   "metadata": {},
   "source": [
    "A Probability density function (PDF) is a function whose value at any given sample in the set of possible values can be interpreted as a relative likelihood that the value of the random variable would equal that sample. In other words, the value of the PDF at two different samples can be used to infer, in any particular draw of the random variable, how much more likely it is that the random variable would equal one sample compared to the other sample."
   ]
  },
  {
   "cell_type": "markdown",
   "metadata": {},
   "source": [
    "The distribution of Attack Angle from Blast"
   ]
  },
  {
   "cell_type": "code",
   "execution_count": 11,
   "metadata": {},
   "outputs": [
    {
     "name": "stderr",
     "output_type": "stream",
     "text": [
      "C:\\Users\\allen\\anaconda3\\lib\\site-packages\\ipykernel_launcher.py:1: FutureWarning: The pandas.np module is deprecated and will be removed from pandas in a future version. Import numpy directly instead\n",
      "  \"\"\"Entry point for launching an IPython kernel.\n"
     ]
    },
    {
     "data": {
      "text/plain": [
       "<matplotlib.axes._subplots.AxesSubplot at 0x193712e2ef0>"
      ]
     },
     "execution_count": 11,
     "metadata": {},
     "output_type": "execute_result"
    },
    {
     "data": {
      "image/png": "[encoded data removed]",
      "text/plain": [
       "<Figure size 432x288 with 1 Axes>"
      ]
     },
     "metadata": {
      "needs_background": "light"
     },
     "output_type": "display_data"
    }
   ],
   "source": [
    "weights = pd.np.ones_like(df_blast.AttackAngle.values) / len(df_blast.AttackAngle.values)\n",
    "df_blast.AttackAngle.hist(bins=30, weights=weights) "
   ]
  },
  {
   "cell_type": "markdown",
   "metadata": {},
   "source": [
    "The distribution of Bat Speed from Blast"
   ]
  },
  {
   "cell_type": "code",
   "execution_count": 12,
   "metadata": {},
   "outputs": [
    {
     "name": "stderr",
     "output_type": "stream",
     "text": [
      "C:\\Users\\allen\\anaconda3\\lib\\site-packages\\ipykernel_launcher.py:1: FutureWarning: The pandas.np module is deprecated and will be removed from pandas in a future version. Import numpy directly instead\n",
      "  \"\"\"Entry point for launching an IPython kernel.\n"
     ]
    },
    {
     "data": {
      "text/plain": [
       "<matplotlib.axes._subplots.AxesSubplot at 0x19371bb94e0>"
      ]
     },
     "execution_count": 12,
     "metadata": {},
     "output_type": "execute_result"
    },
    {
     "data": {
      "image/png": "[encoded data removed]",
      "text/plain": [
       "<Figure size 432x288 with 1 Axes>"
      ]
     },
     "metadata": {
      "needs_background": "light"
     },
     "output_type": "display_data"
    }
   ],
   "source": [
    "weights = pd.np.ones_like(df_blast.BatSpeed.values) / len(df_blast.BatSpeed.values)\n",
    "df_blast.BatSpeed.hist(bins=30, weights=weights) "
   ]
  },
  {
   "cell_type": "markdown",
   "metadata": {},
   "source": [
    "The distribution of Connection from Blast"
   ]
  },
  {
   "cell_type": "code",
   "execution_count": 13,
   "metadata": {},
   "outputs": [
    {
     "name": "stderr",
     "output_type": "stream",
     "text": [
      "C:\\Users\\allen\\anaconda3\\lib\\site-packages\\ipykernel_launcher.py:1: FutureWarning: The pandas.np module is deprecated and will be removed from pandas in a future version. Import numpy directly instead\n",
      "  \"\"\"Entry point for launching an IPython kernel.\n"
     ]
    },
    {
     "data": {
      "text/plain": [
       "<matplotlib.axes._subplots.AxesSubplot at 0x19371c92710>"
      ]
     },
     "execution_count": 13,
     "metadata": {},
     "output_type": "execute_result"
    },
    {
     "data": {
      "image/png": "[encoded data removed]",
      "text/plain": [
       "<Figure size 432x288 with 1 Axes>"
      ]
     },
     "metadata": {
      "needs_background": "light"
     },
     "output_type": "display_data"
    }
   ],
   "source": [
    "weights = pd.np.ones_like(df_blast.Connection.values) / len(df_blast.Connection.values)\n",
    "df_blast.Connection.hist(bins=30, weights=weights) "
   ]
  },
  {
   "cell_type": "markdown",
   "metadata": {},
   "source": [
    "The distribution of Early Connection from Blast"
   ]
  },
  {
   "cell_type": "code",
   "execution_count": 14,
   "metadata": {},
   "outputs": [
    {
     "name": "stderr",
     "output_type": "stream",
     "text": [
      "C:\\Users\\allen\\anaconda3\\lib\\site-packages\\ipykernel_launcher.py:1: FutureWarning: The pandas.np module is deprecated and will be removed from pandas in a future version. Import numpy directly instead\n",
      "  \"\"\"Entry point for launching an IPython kernel.\n"
     ]
    },
    {
     "data": {
      "text/plain": [
       "<matplotlib.axes._subplots.AxesSubplot at 0x19371d4c198>"
      ]
     },
     "execution_count": 14,
     "metadata": {},
     "output_type": "execute_result"
    },
    {
     "data": {
      "image/png": "[encoded data removed]",
      "text/plain": [
       "<Figure size 432x288 with 1 Axes>"
      ]
     },
     "metadata": {
      "needs_background": "light"
     },
     "output_type": "display_data"
    }
   ],
   "source": [
    "weights = pd.np.ones_like(df_blast.EarlyConnection.values) / len(df_blast.EarlyConnection.values)\n",
    "df_blast.EarlyConnection.hist(bins=30, weights=weights) "
   ]
  },
  {
   "cell_type": "markdown",
   "metadata": {},
   "source": [
    "The distribution of Planar Efficiency from Blast"
   ]
  },
  {
   "cell_type": "code",
   "execution_count": 15,
   "metadata": {},
   "outputs": [
    {
     "name": "stderr",
     "output_type": "stream",
     "text": [
      "C:\\Users\\allen\\anaconda3\\lib\\site-packages\\ipykernel_launcher.py:1: FutureWarning: The pandas.np module is deprecated and will be removed from pandas in a future version. Import numpy directly instead\n",
      "  \"\"\"Entry point for launching an IPython kernel.\n"
     ]
    },
    {
     "data": {
      "text/plain": [
       "<matplotlib.axes._subplots.AxesSubplot at 0x19371ddd5c0>"
      ]
     },
     "execution_count": 15,
     "metadata": {},
     "output_type": "execute_result"
    },
    {
     "data": {
      "image/png": "[encoded data removed]",
      "text/plain": [
       "<Figure size 432x288 with 1 Axes>"
      ]
     },
     "metadata": {
      "needs_background": "light"
     },
     "output_type": "display_data"
    }
   ],
   "source": [
    "weights = pd.np.ones_like(df_blast.PlanarEfficiency.values) / len(df_blast.PlanarEfficiency.values)\n",
    "df_blast.PlanarEfficiency.hist(bins=30, weights=weights) "
   ]
  },
  {
   "cell_type": "markdown",
   "metadata": {},
   "source": [
    "The distribution of Rotational Acceleration from Blast"
   ]
  },
  {
   "cell_type": "code",
   "execution_count": 16,
   "metadata": {},
   "outputs": [
    {
     "name": "stderr",
     "output_type": "stream",
     "text": [
      "C:\\Users\\allen\\anaconda3\\lib\\site-packages\\ipykernel_launcher.py:1: FutureWarning: The pandas.np module is deprecated and will be removed from pandas in a future version. Import numpy directly instead\n",
      "  \"\"\"Entry point for launching an IPython kernel.\n"
     ]
    },
    {
     "data": {
      "text/plain": [
       "<matplotlib.axes._subplots.AxesSubplot at 0x19371e86208>"
      ]
     },
     "execution_count": 16,
     "metadata": {},
     "output_type": "execute_result"
    },
    {
     "data": {
      "image/png": "[encoded data removed]",
      "text/plain": [
       "<Figure size 432x288 with 1 Axes>"
      ]
     },
     "metadata": {
      "needs_background": "light"
     },
     "output_type": "display_data"
    }
   ],
   "source": [
    "weights = pd.np.ones_like(df_blast.RotationalAcceleration.values) / len(df_blast.RotationalAcceleration.values)\n",
    "df_blast.RotationalAcceleration.hist(bins=30, weights=weights) "
   ]
  },
  {
   "cell_type": "markdown",
   "metadata": {},
   "source": [
    "### Mean value of data from blast with different BatterId"
   ]
  },
  {
   "cell_type": "code",
   "execution_count": 17,
   "metadata": {},
   "outputs": [],
   "source": [
    "df_blast_mean = df_blast.groupby('BatterId').mean()\n",
    "df_blast_mean = df_blast_mean.drop(['Handedness'], axis=1)"
   ]
  },
  {
   "cell_type": "markdown",
   "metadata": {},
   "source": [
    "Of the six variables, most of them are normally distributed. Thus I decided to use mean value as my input features for clustering."
   ]
  },
  {
   "cell_type": "markdown",
   "metadata": {},
   "source": [
    "## Clustering the data from blast"
   ]
  },
  {
   "cell_type": "markdown",
   "metadata": {},
   "source": [
    "Usually, I do clustering with these steps: scaling the input features, dimensionality reduction, and choosing one clustering algorithm that could perform well on the data. "
   ]
  },
  {
   "cell_type": "markdown",
   "metadata": {},
   "source": [
    "### Step 1: Reduce Dimensionality\n",
    "\n",
    "The data contained 7 features (columns) and it is a bit hard for me to get a broad overview of all of them through traditional methods of visualization. Luckily, this is what doing PCA is all about. You take a ton of features, project them onto a lower-dimensional space, reduce them down to just a few important principal ones, and visualize them."
   ]
  },
  {
   "cell_type": "markdown",
   "metadata": {},
   "source": [
    "Find the optimal number of components which capture the greatest amount of variance in the data. In my case, as seen in the figure below, that number is four."
   ]
  },
  {
   "cell_type": "code",
   "execution_count": 18,
   "metadata": {},
   "outputs": [
    {
     "data": {
      "image/png": "[encoded data removed]",
      "text/plain": [
       "<Figure size 432x288 with 1 Axes>"
      ]
     },
     "metadata": {
      "needs_background": "light"
     },
     "output_type": "display_data"
    }
   ],
   "source": [
    "X = StandardScaler().fit_transform(df_blast_mean)\n",
    "\n",
    "# Create a PCA instance: pca\n",
    "pca = PCA(n_components=6)\n",
    "principalComponents = pca.fit_transform(X)\n",
    "\n",
    "# Plot the explained variances\n",
    "features = range(pca.n_components_)\n",
    "plt.bar(features, pca.explained_variance_ratio_, color='black')\n",
    "plt.xlabel('PCA features')\n",
    "plt.ylabel('variance %')\n",
    "plt.xticks(features)\n",
    "\n",
    "# Save components to a DataFrame\n",
    "PCA_components = pd.DataFrame(principalComponents)"
   ]
  },
  {
   "cell_type": "markdown",
   "metadata": {},
   "source": [
    "Above figure shows that the first four components explain the majority of the variance in our data. For this visualization use case, I will quickly plot just the first two. I do this to notice if there are any clear clusters."
   ]
  },
  {
   "cell_type": "code",
   "execution_count": 19,
   "metadata": {},
   "outputs": [
    {
     "data": {
      "text/plain": [
       "Text(0, 0.5, 'PCA 2')"
      ]
     },
     "execution_count": 19,
     "metadata": {},
     "output_type": "execute_result"
    },
    {
     "data": {
      "image/png": "[encoded data removed]",
      "text/plain": [
       "<Figure size 432x288 with 1 Axes>"
      ]
     },
     "metadata": {
      "needs_background": "light"
     },
     "output_type": "display_data"
    }
   ],
   "source": [
    "plt.scatter(PCA_components[0], PCA_components[1], alpha=.1, color='black')\n",
    "plt.xlabel('PCA 1')\n",
    "plt.ylabel('PCA 2')"
   ]
  },
  {
   "cell_type": "markdown",
   "metadata": {},
   "source": [
    "Why K-means clustering"
   ]
  },
  {
   "cell_type": "markdown",
   "metadata": {},
   "source": [
    "Selecting an appropriate clustering algorithm for one's dataset is often difficult due to the number of choices available. Some important factors that affect this decision include the characteristics of the clusters, the features of the dataset, the number of outliers, and the number of data objects.\n",
    "\n",
    "We can explore how these factors help determine which approach is most appropriate by looking at three popular categories of clustering algorithms:\n",
    "\n",
    "Partitional clustering\n",
    "Hierarchical clustering\n",
    "Density-based clustering"
   ]
  },
  {
   "cell_type": "markdown",
   "metadata": {},
   "source": [
    "### Step 2: Find the Clusters\n",
    "\n",
    "In this step, I will use k-means clustering to view the top four PCA components. In order to do this, I will first fit these principal components to the k-means algorithm and determine the best number of clusters. Determining the ideal number of clusters for our k-means model can be done by measuring the sum of the squared distances to the nearest cluster center aka inertia. Much like the scree plot for PCA, the k-means scree plot below indicates the percentage of variance explained, but in slightly different terms, as a function of the number of clusters."
   ]
  },
  {
   "cell_type": "code",
   "execution_count": 20,
   "metadata": {},
   "outputs": [
    {
     "data": {
      "image/png": "[encoded data removed]",
      "text/plain": [
       "<Figure size 432x288 with 1 Axes>"
      ]
     },
     "metadata": {
      "needs_background": "light"
     },
     "output_type": "display_data"
    }
   ],
   "source": [
    "ks = range(1, 10)\n",
    "inertias = []\n",
    "for k in ks:\n",
    "    # Create a KMeans instance with k clusters: model\n",
    "    model = KMeans(n_clusters=k)\n",
    "    \n",
    "    # Fit model to samples\n",
    "    model.fit(PCA_components.iloc[:,:4])\n",
    "    \n",
    "    # Append the inertia to the list of inertias\n",
    "    inertias.append(model.inertia_)\n",
    "    \n",
    "plt.plot(ks, inertias, '-o', color='black')\n",
    "plt.xlabel('number of clusters, k')\n",
    "plt.ylabel('inertia')\n",
    "plt.xticks(ks)\n",
    "plt.show()"
   ]
  },
  {
   "cell_type": "markdown",
   "metadata": {},
   "source": [
    "Figure shows that after 2 clusters at (the elbow) the change in the value of inertia is no longer significant and most likely, neither is the variance of the rest of the data after the elbow point. However I want to classify players into more groups, 4, to come up with more kinds of improvement plan."
   ]
  },
  {
   "cell_type": "code",
   "execution_count": 21,
   "metadata": {},
   "outputs": [
    {
     "data": {
      "text/plain": [
       "array([0, 2, 0, 3, 0, 3, 3, 0, 3, 0, 1, 2, 2, 2, 2, 2, 1, 2, 1, 3, 0, 3,\n",
       "       0, 3, 1, 1, 0, 3, 3, 3, 3, 0, 2, 1, 3, 1, 1, 0, 3, 3, 1, 0, 0, 3,\n",
       "       0, 3, 0, 3, 2, 3, 0, 1, 0, 1, 2, 0, 0, 3, 3, 0, 0, 1, 3, 2, 0, 1,\n",
       "       1, 1, 0, 2, 3, 1, 1, 3, 1, 3, 2, 3, 1, 2, 1, 3, 1, 3, 3, 3, 3, 1,\n",
       "       3, 3, 1, 1, 3, 1, 1, 3, 0, 3, 3, 1, 2, 2, 2, 2])"
      ]
     },
     "execution_count": 21,
     "metadata": {},
     "output_type": "execute_result"
    }
   ],
   "source": [
    "kmeans = KMeans(n_clusters=4).fit(PCA_components.iloc[:,:4])\n",
    "kmeans.labels_"
   ]
  },
  {
   "cell_type": "markdown",
   "metadata": {},
   "source": [
    "### Variance within variables and between clusters\n",
    "One assumption of variable importance in cluster tasks is that if the average value of a variable ordered by clusters differs significantly among each other, that variable is likely important in creating the clusters.\n",
    "We start by simply aggregating the data based on the generated clusters and retrieving the mean value per variable:"
   ]
  },
  {
   "cell_type": "code",
   "execution_count": 22,
   "metadata": {},
   "outputs": [
    {
     "data": {
      "text/html": [
       "<div>\n",
       "<style scoped>\n",
       "    .dataframe tbody tr th:only-of-type {\n",
       "        vertical-align: middle;\n",
       "    }\n",
       "\n",
       "    .dataframe tbody tr th {\n",
       "        vertical-align: top;\n",
       "    }\n",
       "\n",
       "    .dataframe thead th {\n",
       "        text-align: right;\n",
       "    }\n",
       "</style>\n",
       "<table border=\"1\" class=\"dataframe\">\n",
       "  <thead>\n",
       "    <tr style=\"text-align: right;\">\n",
       "      <th></th>\n",
       "      <th>AttackAngle</th>\n",
       "      <th>BatSpeed</th>\n",
       "      <th>Connection</th>\n",
       "      <th>EarlyConnection</th>\n",
       "      <th>PlanarEfficiency</th>\n",
       "      <th>RotationalAcceleration</th>\n",
       "    </tr>\n",
       "    <tr>\n",
       "      <th>labels</th>\n",
       "      <th></th>\n",
       "      <th></th>\n",
       "      <th></th>\n",
       "      <th></th>\n",
       "      <th></th>\n",
       "      <th></th>\n",
       "    </tr>\n",
       "  </thead>\n",
       "  <tbody>\n",
       "    <tr>\n",
       "      <th>0</th>\n",
       "      <td>-1.069812</td>\n",
       "      <td>0.654203</td>\n",
       "      <td>-0.743602</td>\n",
       "      <td>-0.705324</td>\n",
       "      <td>0.560460</td>\n",
       "      <td>0.701947</td>\n",
       "    </tr>\n",
       "    <tr>\n",
       "      <th>1</th>\n",
       "      <td>0.884403</td>\n",
       "      <td>0.430817</td>\n",
       "      <td>-0.519233</td>\n",
       "      <td>-0.541611</td>\n",
       "      <td>0.647457</td>\n",
       "      <td>0.591313</td>\n",
       "    </tr>\n",
       "    <tr>\n",
       "      <th>2</th>\n",
       "      <td>-0.554017</td>\n",
       "      <td>-1.311083</td>\n",
       "      <td>-0.040884</td>\n",
       "      <td>-0.248655</td>\n",
       "      <td>0.135937</td>\n",
       "      <td>-0.807116</td>\n",
       "    </tr>\n",
       "    <tr>\n",
       "      <th>3</th>\n",
       "      <td>0.297197</td>\n",
       "      <td>-0.085534</td>\n",
       "      <td>0.884946</td>\n",
       "      <td>0.981160</td>\n",
       "      <td>-0.911634</td>\n",
       "      <td>-0.488393</td>\n",
       "    </tr>\n",
       "  </tbody>\n",
       "</table>\n",
       "</div>"
      ],
      "text/plain": [
       "        AttackAngle  BatSpeed  Connection  EarlyConnection  PlanarEfficiency  \\\n",
       "labels                                                                         \n",
       "0         -1.069812  0.654203   -0.743602        -0.705324          0.560460   \n",
       "1          0.884403  0.430817   -0.519233        -0.541611          0.647457   \n",
       "2         -0.554017 -1.311083   -0.040884        -0.248655          0.135937   \n",
       "3          0.297197 -0.085534    0.884946         0.981160         -0.911634   \n",
       "\n",
       "        RotationalAcceleration  \n",
       "labels                          \n",
       "0                     0.701947  \n",
       "1                     0.591313  \n",
       "2                    -0.807116  \n",
       "3                    -0.488393  "
      ]
     },
     "execution_count": 22,
     "metadata": {},
     "output_type": "execute_result"
    }
   ],
   "source": [
    "df_scaled = StandardScaler().fit_transform(df_blast_mean)\n",
    "df_scaled = pd.DataFrame(StandardScaler().fit_transform(df_blast_mean))\n",
    "df_scaled.columns=['AttackAngle','BatSpeed','Connection','EarlyConnection','PlanarEfficiency','RotationalAcceleration']\n",
    "df_scaled['labels'] = kmeans.labels_\n",
    "df_mean = df_scaled.groupby('labels').mean()\n",
    "df_mean"
   ]
  },
  {
   "cell_type": "markdown",
   "metadata": {},
   "source": [
    "Next, I simply calculate the variance of means between clusters within each variable and select the variables:"
   ]
  },
  {
   "cell_type": "code",
   "execution_count": 23,
   "metadata": {},
   "outputs": [
    {
     "data": {
      "text/plain": [
       "<matplotlib.axes._subplots.AxesSubplot at 0x193726def28>"
      ]
     },
     "execution_count": 23,
     "metadata": {},
     "output_type": "execute_result"
    },
    {
     "data": {
      "image/png": "[encoded data removed]",
      "text/plain": [
       "<Figure size 432x288 with 1 Axes>"
      ]
     },
     "metadata": {
      "needs_background": "light"
     },
     "output_type": "display_data"
    }
   ],
   "source": [
    "results = pd.DataFrame(columns=['Variable', 'Var'])\n",
    "\n",
    "for column in df_mean.columns[0:6]:\n",
    "    results.loc[len(results), :] = [column, np.var(df_mean[column])]\n",
    "selected_columns = list(results.sort_values('Var', ascending=False).head(6).Variable.values) + ['labels']\n",
    "tidy = df_scaled[selected_columns].melt(id_vars='labels')\n",
    "sns.barplot(x='labels', y='value', hue='variable', data=tidy)"
   ]
  },
  {
   "cell_type": "markdown",
   "metadata": {},
   "source": [
    "I can now more clearly see differences between clusters. For example, in cluster 0 you can see that every single person has less thn average Blast data except for PlanarEfficiency. "
   ]
  },
  {
   "cell_type": "markdown",
   "metadata": {},
   "source": [
    "After having a brief look at the clustering result, I need to interpret the clusters. The easiest way to describe clusters is by using a set of rules. I could automatically generate the rules by training a decision tree model using original features and clustering result as the label. I wrote a cluster_report function that wraps the decision tree training and rules extraction from the tree."
   ]
  },
  {
   "cell_type": "code",
   "execution_count": 24,
   "metadata": {},
   "outputs": [],
   "source": [
    "#from IPython.display import display, HTML\n",
    "#from sklearn.tree import _tree, DecisionTreeClassifier\n",
    "\n",
    "def pretty_print(df):\n",
    "    return display( HTML( df.to_html().replace(\"\\\\n\",\"<br>\") ) )\n",
    "\n",
    "def get_class_rules(tree: DecisionTreeClassifier, feature_names: list):\n",
    "  inner_tree: _tree.Tree = tree.tree_\n",
    "  classes = tree.classes_\n",
    "  class_rules_dict = dict()\n",
    "\n",
    "  def tree_dfs(node_id=0, current_rule=[]):\n",
    "    # feature[i] holds the feature to split on, for the internal node i.\n",
    "    split_feature = inner_tree.feature[node_id]\n",
    "    if split_feature != _tree.TREE_UNDEFINED: # internal node\n",
    "      name = feature_names[split_feature]\n",
    "      threshold = inner_tree.threshold[node_id]\n",
    "      # left child\n",
    "      left_rule = current_rule + [\"({} <= {})\".format(name, threshold)]\n",
    "      tree_dfs(inner_tree.children_left[node_id], left_rule)\n",
    "      # right child\n",
    "      right_rule = current_rule + [\"({} > {})\".format(name, threshold)]\n",
    "      tree_dfs(inner_tree.children_right[node_id], right_rule)\n",
    "    else: # leaf\n",
    "      dist = inner_tree.value[node_id][0]\n",
    "      dist = dist/dist.sum()\n",
    "      max_idx = dist.argmax()\n",
    "      if len(current_rule) == 0:\n",
    "        rule_string = \"ALL\"\n",
    "      else:\n",
    "        rule_string = \" and \".join(current_rule)\n",
    "      # register new rule to dictionary\n",
    "      selected_class = classes[max_idx]\n",
    "      class_probability = dist[max_idx]\n",
    "      class_rules = class_rules_dict.get(selected_class, [])\n",
    "      class_rules.append((rule_string, class_probability))\n",
    "      class_rules_dict[selected_class] = class_rules\n",
    "    \n",
    "  tree_dfs() # start from root, node_id = 0\n",
    "  return class_rules_dict\n",
    "\n",
    "def cluster_report(data: pd.DataFrame, clusters, min_samples_leaf=50, pruning_level=0.01):\n",
    "    # Create Model\n",
    "    tree = DecisionTreeClassifier(min_samples_leaf=min_samples_leaf, ccp_alpha=pruning_level)\n",
    "    tree.fit(data, clusters)\n",
    "    \n",
    "    # Generate Report\n",
    "    feature_names = data.columns\n",
    "    class_rule_dict = get_class_rules(tree, feature_names)\n",
    "\n",
    "    report_class_list = []\n",
    "    for class_name in class_rule_dict.keys():\n",
    "        rule_list = class_rule_dict[class_name]\n",
    "        combined_string = \"\"\n",
    "        for rule in rule_list:\n",
    "            combined_string += \"[{}] {}\\n\\n\".format(rule[1], rule[0])\n",
    "        report_class_list.append((class_name, combined_string))\n",
    "        \n",
    "    cluster_instance_df = pd.Series(clusters).value_counts().reset_index()\n",
    "    cluster_instance_df.columns = ['class_name', 'instance_count']\n",
    "    report_df = pd.DataFrame(report_class_list, columns=['class_name', 'rule_list'])\n",
    "    report_df = pd.merge(cluster_instance_df, report_df, on='class_name', how='left')\n",
    "    pretty_print(report_df.sort_values(by='class_name')[['class_name', 'instance_count', 'rule_list']])"
   ]
  },
  {
   "cell_type": "markdown",
   "metadata": {},
   "source": [
    "The number in the bracket is showing the proportion of class_name satisfying the rule. For example, [0.8666666666666667] (EarlyConnection <= 1.7521717548370361)  means for all instances that satisfy (EarlyConnection <= 1.7521717548370361) rule, 87% of them are in cluster 0"
   ]
  },
  {
   "cell_type": "code",
   "execution_count": 25,
   "metadata": {
    "scrolled": true
   },
   "outputs": [
    {
     "data": {
      "text/html": [
       "<table border=\"1\" class=\"dataframe\">\n",
       "  <thead>\n",
       "    <tr style=\"text-align: right;\">\n",
       "      <th></th>\n",
       "      <th>class_name</th>\n",
       "      <th>instance_count</th>\n",
       "      <th>rule_list</th>\n",
       "    </tr>\n",
       "  </thead>\n",
       "  <tbody>\n",
       "    <tr>\n",
       "      <th>2</th>\n",
       "      <td>0</td>\n",
       "      <td>23</td>\n",
       "      <td>[0.84] (EarlyConnection &lt;= 1.7521717548370361) and (AttackAngle &lt;= 0.1938438042998314) and (BatSpeed &gt; 31.03825283050537)<br><br></td>\n",
       "    </tr>\n",
       "    <tr>\n",
       "      <th>1</th>\n",
       "      <td>1</td>\n",
       "      <td>27</td>\n",
       "      <td>[0.95] (EarlyConnection &lt;= 1.7521717548370361) and (AttackAngle &gt; 0.1938438042998314) and (EarlyConnection &lt;= 1.6067730784416199)<br><br></td>\n",
       "    </tr>\n",
       "    <tr>\n",
       "      <th>3</th>\n",
       "      <td>2</td>\n",
       "      <td>18</td>\n",
       "      <td>[0.8666666666666667] (EarlyConnection &lt;= 1.7521717548370361) and (AttackAngle &lt;= 0.1938438042998314) and (BatSpeed &lt;= 31.03825283050537)<br><br></td>\n",
       "    </tr>\n",
       "    <tr>\n",
       "      <th>0</th>\n",
       "      <td>3</td>\n",
       "      <td>36</td>\n",
       "      <td>[0.47058823529411764] (EarlyConnection &lt;= 1.7521717548370361) and (AttackAngle &gt; 0.1938438042998314) and (EarlyConnection &gt; 1.6067730784416199)<br><br>[0.9629629629629629] (EarlyConnection &gt; 1.7521717548370361)<br><br></td>\n",
       "    </tr>\n",
       "  </tbody>\n",
       "</table>"
      ],
      "text/plain": [
       "<IPython.core.display.HTML object>"
      ]
     },
     "metadata": {},
     "output_type": "display_data"
    }
   ],
   "source": [
    "df_blast_mean['labels'] = kmeans.labels_\n",
    "cluster_report(df_blast_mean.drop(['labels'], axis=1), df_blast_mean['labels'], min_samples_leaf=15, pruning_level=0.01)"
   ]
  },
  {
   "cell_type": "markdown",
   "metadata": {},
   "source": [
    "## Build my own classification model for xwOBA"
   ]
  },
  {
   "cell_type": "markdown",
   "metadata": {},
   "source": [
    "To properly examine the game performance for these three groups of batters, I decide to come up with xwOBA value using the data I have from trackman"
   ]
  },
  {
   "cell_type": "markdown",
   "metadata": {},
   "source": [
    "Take a look at what I have"
   ]
  },
  {
   "cell_type": "code",
   "execution_count": 26,
   "metadata": {},
   "outputs": [
    {
     "data": {
      "text/plain": [
       "array(['StrikeCalled', 'FoulBall', 'BallCalled', 'StrikeSwinging',\n",
       "       'InPlay', 'HitByPitch', 'BallIntentional', 'Undefined',\n",
       "       'CatchersInterference'], dtype=object)"
      ]
     },
     "execution_count": 26,
     "metadata": {},
     "output_type": "execute_result"
    }
   ],
   "source": [
    "df_trackman.PitchCall.unique()"
   ]
  },
  {
   "cell_type": "code",
   "execution_count": 27,
   "metadata": {},
   "outputs": [
    {
     "data": {
      "text/plain": [
       "array(['Undefined', 'Out', 'Single', 'Sacrifice', 'Double', 'Triple',\n",
       "       'HomeRun', 'Error', 'FieldersChoice'], dtype=object)"
      ]
     },
     "execution_count": 27,
     "metadata": {},
     "output_type": "execute_result"
    }
   ],
   "source": [
    "df_trackman.PlayResult.unique()"
   ]
  },
  {
   "cell_type": "markdown",
   "metadata": {},
   "source": [
    "wOBA only considers balls in play, walk and hitbypitch; similarly, xwOBA considers the probability of each event using exit velocity and launch angle."
   ]
  },
  {
   "cell_type": "code",
   "execution_count": 28,
   "metadata": {},
   "outputs": [
    {
     "name": "stderr",
     "output_type": "stream",
     "text": [
      "C:\\Users\\allen\\anaconda3\\lib\\site-packages\\pandas\\core\\indexing.py:965: SettingWithCopyWarning: \n",
      "A value is trying to be set on a copy of a slice from a DataFrame.\n",
      "Try using .loc[row_indexer,col_indexer] = value instead\n",
      "\n",
      "See the caveats in the documentation: https://pandas.pydata.org/pandas-docs/stable/user_guide/indexing.html#returning-a-view-versus-a-copy\n",
      "  self.obj[item] = s\n"
     ]
    },
    {
     "data": {
      "text/plain": [
       "array(['Out', 'Walk', 'Single', 'Double', 'Triple', 'HomeRun',\n",
       "       'HitByPitch'], dtype=object)"
      ]
     },
     "execution_count": 28,
     "metadata": {},
     "output_type": "execute_result"
    }
   ],
   "source": [
    "#filter to wanted columns\n",
    "event_include = ['BallCalled', 'InPlay', 'HitByPitch']\n",
    "df_trackman_xwOBA = df_trackman[df_trackman['PitchCall'].isin(event_include)]\n",
    "\n",
    "#assign hitbypitch, walk to column 'PlayResult' \n",
    "df_trackman_xwOBA.loc[df_trackman_xwOBA['PitchCall']=='HitByPitch', 'PlayResult'] = 'HitByPitch'\n",
    "df_trackman_xwOBA.loc[(df_trackman_xwOBA['PitchCall']=='BallCalled') & (df_trackman_xwOBA['Balls']==3), 'PlayResult'] = 'Walk'\n",
    "df_trackman_xwOBA = df_trackman_xwOBA.drop(df_trackman_xwOBA[df_trackman_xwOBA.PlayResult=='Undefined'].index)\n",
    "\n",
    "#any long-version out = out\n",
    "outs = ['Out', 'Sacrifice', 'Error', 'FieldersChoice']\n",
    "df_trackman_xwOBA.loc[df_trackman_xwOBA['PlayResult'].isin(outs), 'PlayResult'] = 'Out'\n",
    "\n",
    "# verify remaining outcomes\n",
    "df_trackman_xwOBA['PlayResult'].unique()"
   ]
  },
  {
   "cell_type": "markdown",
   "metadata": {},
   "source": [
    "Now that I have simplified plate-appearance outcomes, I'll join in Fangraphs' wOBA values for the given season(2019)."
   ]
  },
  {
   "cell_type": "code",
   "execution_count": 29,
   "metadata": {},
   "outputs": [
    {
     "data": {
      "text/html": [
       "<div>\n",
       "<style scoped>\n",
       "    .dataframe tbody tr th:only-of-type {\n",
       "        vertical-align: middle;\n",
       "    }\n",
       "\n",
       "    .dataframe tbody tr th {\n",
       "        vertical-align: top;\n",
       "    }\n",
       "\n",
       "    .dataframe thead th {\n",
       "        text-align: right;\n",
       "    }\n",
       "</style>\n",
       "<table border=\"1\" class=\"dataframe\">\n",
       "  <thead>\n",
       "    <tr style=\"text-align: right;\">\n",
       "      <th></th>\n",
       "      <th>wBB</th>\n",
       "      <th>wHBP</th>\n",
       "      <th>w1B</th>\n",
       "      <th>w2B</th>\n",
       "      <th>w3B</th>\n",
       "      <th>wHR</th>\n",
       "    </tr>\n",
       "  </thead>\n",
       "  <tbody>\n",
       "    <tr>\n",
       "      <th>2</th>\n",
       "      <td>0.69</td>\n",
       "      <td>0.719</td>\n",
       "      <td>0.87</td>\n",
       "      <td>1.217</td>\n",
       "      <td>1.529</td>\n",
       "      <td>1.94</td>\n",
       "    </tr>\n",
       "  </tbody>\n",
       "</table>\n",
       "</div>"
      ],
      "text/plain": [
       "    wBB   wHBP   w1B    w2B    w3B   wHR\n",
       "2  0.69  0.719  0.87  1.217  1.529  1.94"
      ]
     },
     "execution_count": 29,
     "metadata": {},
     "output_type": "execute_result"
    }
   ],
   "source": [
    "woba_weights = pd.read_csv(r'C:\\Users\\allen\\Desktop\\Baseball Analytics Coding Task\\woba_weights.csv')\n",
    "woba_weights = woba_weights.loc[woba_weights['Season']==2019, ['wBB', 'wHBP', 'w1B', 'w2B', 'w3B', 'wHR']]\n",
    "woba_weights"
   ]
  },
  {
   "cell_type": "markdown",
   "metadata": {},
   "source": [
    "Assign the values to my dataframe 'df_trackman_xwOBA'"
   ]
  },
  {
   "cell_type": "code",
   "execution_count": 30,
   "metadata": {},
   "outputs": [],
   "source": [
    "df_trackman_xwOBA['wBB']=0.69\n",
    "df_trackman_xwOBA['wHBP']=0.719\n",
    "df_trackman_xwOBA['w1B']=0.87\n",
    "df_trackman_xwOBA['w2B']=1.217\n",
    "df_trackman_xwOBA['w3B']=1.529\n",
    "df_trackman_xwOBA['wHR']=1.94"
   ]
  },
  {
   "cell_type": "markdown",
   "metadata": {},
   "source": [
    "Build the models from rows with actual exit velocity, launch angle values"
   ]
  },
  {
   "cell_type": "code",
   "execution_count": 31,
   "metadata": {},
   "outputs": [],
   "source": [
    "df_trackman_xwOBA_contact_known = df_trackman_xwOBA[df_trackman_xwOBA['ExitSpeed'].notnull()]\n",
    "event_include = ['Single', 'Out', 'Double', 'Triple', 'HomeRun']\n",
    "df_trackman_xwOBA_contact_known = df_trackman_xwOBA_contact_known[df_trackman_xwOBA_contact_known['PlayResult'].isin(event_include)]"
   ]
  },
  {
   "cell_type": "markdown",
   "metadata": {},
   "source": [
    "My goal here isn't necessarily to predict the outcome of a hit as accurately as possible. \n",
    "\n",
    "If I'm trying to uncover a hitter's true talent, I'll build models using only the things the hitter is responsible for:\n",
    "\n",
    "batted ball speed\n",
    "\n",
    "batted ball vertical angle (launch angle)\n",
    "\n",
    "batted ball horizontal angle (spray angle)\n",
    "\n",
    "handedness (to standardize spray angle)\n",
    "\n",
    "As far as the models themselves go, I mostly care about the probabilistic predictions from each model. I can get the outcome classification from that data, but more importantly, those probabilities are useful. If we assign a value to the results of a batted ball, we can calculate the expected value of the batted ball and use that to value a hitter.\n",
    "\n",
    "I've settled on 6 popular classifiers to compare. I'll use:\n",
    "\n",
    "logistic regression\n",
    "k-nearest neighbors\n",
    "support vector machine\n",
    "decision tree\n",
    "random forest\n",
    "gradient boosting\n",
    "\n",
    "And I'm going to use 4 metrics to evaluate the models, which together should give a good picture of the best overall model:\n",
    "\n",
    "F1 score (weighted by instances of each label)\n",
    "ROC AUC (computed by label and weighted by frequency)\n",
    "balanced accuracy (for imbalanced datasets)\n",
    "log loss\n",
    "I'll run with largely default settings for each of the models to keep a relatively level playing field."
   ]
  },
  {
   "cell_type": "code",
   "execution_count": 32,
   "metadata": {},
   "outputs": [],
   "source": [
    "df_trackman_xwOBA_contact_known\n",
    "\n",
    "# one-hot encode handedness\n",
    "df_trackman_xwOBA_contact_known = pd.concat([df_trackman_xwOBA_contact_known, pd.get_dummies(df_trackman_xwOBA_contact_known.Bats)], axis=1)\n",
    "\n",
    "# drop unnecessary columns & rename to be a little clearer\n",
    "df_trackman_xwOBA_contact_known = df_trackman_xwOBA_contact_known.drop(columns=['Left', 'S'])\n",
    "df_trackman_xwOBA_contact_known = df_trackman_xwOBA_contact_known.rename(columns={'Right': 'is_Right'})"
   ]
  },
  {
   "cell_type": "code",
   "execution_count": 33,
   "metadata": {},
   "outputs": [
    {
     "name": "stderr",
     "output_type": "stream",
     "text": [
      "C:\\Users\\allen\\anaconda3\\lib\\site-packages\\ipykernel_launcher.py:6: SettingWithCopyWarning: \n",
      "A value is trying to be set on a copy of a slice from a DataFrame.\n",
      "Try using .loc[row_indexer,col_indexer] = value instead\n",
      "\n",
      "See the caveats in the documentation: https://pandas.pydata.org/pandas-docs/stable/user_guide/indexing.html#returning-a-view-versus-a-copy\n",
      "  \n",
      "C:\\Users\\allen\\anaconda3\\lib\\site-packages\\pandas\\core\\indexing.py:965: SettingWithCopyWarning: \n",
      "A value is trying to be set on a copy of a slice from a DataFrame.\n",
      "Try using .loc[row_indexer,col_indexer] = value instead\n",
      "\n",
      "See the caveats in the documentation: https://pandas.pydata.org/pandas-docs/stable/user_guide/indexing.html#returning-a-view-versus-a-copy\n",
      "  self.obj[item] = s\n"
     ]
    }
   ],
   "source": [
    "#select the variables I want to include\n",
    "df_trackman_xwOBA_contact_known_model = df_trackman_xwOBA_contact_known[['ExitSpeed', 'VertAngle', 'HorzAngle', 'is_Right', 'PlayResult']]\n",
    "\n",
    "#scale the numeric data\n",
    "to_scale = ['ExitSpeed', 'VertAngle', 'HorzAngle']\n",
    "df_trackman_xwOBA_contact_known_model[to_scale] = StandardScaler().fit_transform(df_trackman_xwOBA_contact_known_model[to_scale])\n",
    "\n",
    "#assign x and y for my model\n",
    "X = df_trackman_xwOBA_contact_known_model[['ExitSpeed', 'VertAngle', 'HorzAngle', 'is_Right']]\n",
    "y = df_trackman_xwOBA_contact_known_model['PlayResult']"
   ]
  },
  {
   "cell_type": "code",
   "execution_count": 34,
   "metadata": {},
   "outputs": [],
   "source": [
    "#from imblearn.pipeline import Pipeline\n",
    "#from sklearn.preprocessing import StandardScaler\n",
    "#from sklearn.model_selection import cross_validate\n",
    "#from sklearn.metrics import f1_score, accuracy_score, log_loss, roc_auc_score, make_scorer\n",
    "#from sklearn.linear_model import LogisticRegression\n",
    "#from sklearn.neighbors import KNeighborsClassifier\n",
    "#from sklearn.svm import SVC\n",
    "#from sklearn.tree import DecisionTreeClassifier\n",
    "#from sklearn.ensemble import RandomForestClassifier, GradientBoostingClassifier\n",
    "#from xgboost import XGBClassifier\n",
    "\n",
    "# scoring metrics\n",
    "scoring = {\n",
    "    'f1_weighted': 'f1_weighted',\n",
    "    'accuracy': 'balanced_accuracy',\n",
    "    'roc_auc': 'roc_auc_ovr_weighted',\n",
    "    'neg_log_loss': 'neg_log_loss'\n",
    "    }\n",
    "\n",
    "# for results df\n",
    "eval_cols = [\n",
    "    'models',\n",
    "    'F1 Score',\n",
    "    'Balanced Accuracy',\n",
    "    'ROC AUC',\n",
    "    'Neg Log Loss'\n",
    "    ]\n",
    "\n",
    "# define classifier models\n",
    "classifiers = [\n",
    "    LogisticRegression(multi_class='multinomial'),\n",
    "    KNeighborsClassifier(),\n",
    "    SVC(probability=True),\n",
    "    DecisionTreeClassifier(),\n",
    "    RandomForestClassifier(),\n",
    "    GradientBoostingClassifier(),\n",
    "    XGBClassifier()\n",
    "    ]\n",
    "\n",
    "# classifier names\n",
    "clf_names = [\n",
    "    'Logistic Regression',\n",
    "    'KNN',\n",
    "    'SVM',\n",
    "    'Decision Tree',\n",
    "    'Random Forest',\n",
    "    'Gradient Boosting',\n",
    "    'XGBClassifier'\n",
    "    ]"
   ]
  },
  {
   "cell_type": "code",
   "execution_count": 35,
   "metadata": {},
   "outputs": [
    {
     "name": "stdout",
     "output_type": "stream",
     "text": [
      "Time to cross-validate Logistic Regression = 0.068 min.\n",
      "Time to cross-validate KNN = 0.037 min.\n",
      "Time to cross-validate SVM = 1.311 min.\n",
      "Time to cross-validate Decision Tree = 0.010 min.\n",
      "Time to cross-validate Random Forest = 0.176 min.\n",
      "Time to cross-validate Gradient Boosting = 0.636 min.\n",
      "Time to cross-validate XGBClassifier = 0.195 min.\n"
     ]
    },
    {
     "data": {
      "text/html": [
       "<div>\n",
       "<style scoped>\n",
       "    .dataframe tbody tr th:only-of-type {\n",
       "        vertical-align: middle;\n",
       "    }\n",
       "\n",
       "    .dataframe tbody tr th {\n",
       "        vertical-align: top;\n",
       "    }\n",
       "\n",
       "    .dataframe thead th {\n",
       "        text-align: right;\n",
       "    }\n",
       "</style>\n",
       "<table border=\"1\" class=\"dataframe\">\n",
       "  <thead>\n",
       "    <tr style=\"text-align: right;\">\n",
       "      <th></th>\n",
       "      <th>models</th>\n",
       "      <th>F1 Score</th>\n",
       "      <th>Balanced Accuracy</th>\n",
       "      <th>ROC AUC</th>\n",
       "      <th>Neg Log Loss</th>\n",
       "    </tr>\n",
       "  </thead>\n",
       "  <tbody>\n",
       "    <tr>\n",
       "      <th>0</th>\n",
       "      <td>Logistic Regression</td>\n",
       "      <td>0.510787</td>\n",
       "      <td>0.264336</td>\n",
       "      <td>0.668918</td>\n",
       "      <td>-0.877740</td>\n",
       "    </tr>\n",
       "    <tr>\n",
       "      <th>1</th>\n",
       "      <td>KNN</td>\n",
       "      <td>0.751605</td>\n",
       "      <td>0.508681</td>\n",
       "      <td>0.853699</td>\n",
       "      <td>-2.626078</td>\n",
       "    </tr>\n",
       "    <tr>\n",
       "      <th>2</th>\n",
       "      <td>SVM</td>\n",
       "      <td>0.731226</td>\n",
       "      <td>0.479989</td>\n",
       "      <td>0.852862</td>\n",
       "      <td>-0.631656</td>\n",
       "    </tr>\n",
       "    <tr>\n",
       "      <th>3</th>\n",
       "      <td>Decision Tree</td>\n",
       "      <td>0.696652</td>\n",
       "      <td>0.473227</td>\n",
       "      <td>0.718004</td>\n",
       "      <td>-10.498888</td>\n",
       "    </tr>\n",
       "    <tr>\n",
       "      <th>4</th>\n",
       "      <td>Random Forest</td>\n",
       "      <td>0.755014</td>\n",
       "      <td>0.510904</td>\n",
       "      <td>0.874318</td>\n",
       "      <td>-0.891982</td>\n",
       "    </tr>\n",
       "    <tr>\n",
       "      <th>5</th>\n",
       "      <td>Gradient Boosting</td>\n",
       "      <td>0.751686</td>\n",
       "      <td>0.497045</td>\n",
       "      <td>0.876588</td>\n",
       "      <td>-0.610168</td>\n",
       "    </tr>\n",
       "    <tr>\n",
       "      <th>6</th>\n",
       "      <td>XGBClassifier</td>\n",
       "      <td>0.743082</td>\n",
       "      <td>0.481209</td>\n",
       "      <td>0.873540</td>\n",
       "      <td>-0.600307</td>\n",
       "    </tr>\n",
       "  </tbody>\n",
       "</table>\n",
       "</div>"
      ],
      "text/plain": [
       "                models  F1 Score  Balanced Accuracy   ROC AUC  Neg Log Loss\n",
       "0  Logistic Regression  0.510787           0.264336  0.668918     -0.877740\n",
       "1                  KNN  0.751605           0.508681  0.853699     -2.626078\n",
       "2                  SVM  0.731226           0.479989  0.852862     -0.631656\n",
       "3        Decision Tree  0.696652           0.473227  0.718004    -10.498888\n",
       "4        Random Forest  0.755014           0.510904  0.874318     -0.891982\n",
       "5    Gradient Boosting  0.751686           0.497045  0.876588     -0.610168\n",
       "6        XGBClassifier  0.743082           0.481209  0.873540     -0.600307"
      ]
     },
     "metadata": {},
     "output_type": "display_data"
    }
   ],
   "source": [
    "#import time as time\n",
    "\n",
    "f1, acc, roc_auc, log_loss = [], [], [], []\n",
    "for clf, clf_nm in zip(classifiers, clf_names):\n",
    "\n",
    "    start = time.time()\n",
    "    \n",
    "    # cross-validate 5 times\n",
    "    res = cross_validate(clf, X, y, cv=5, scoring=scoring)\n",
    "    results = pd.DataFrame(res)\n",
    "    \n",
    "    stop = time.time()\n",
    "\n",
    "    print('Time to cross-validate %s = %0.3f min.' % (clf_nm, (stop - start) / 60))\n",
    "\n",
    "    # save average scores\n",
    "    f1.append(np.mean(results.test_f1_weighted))\n",
    "    acc.append(np.mean(results.test_accuracy))\n",
    "    roc_auc.append(np.mean(results.test_roc_auc))\n",
    "    log_loss.append(np.mean(results.test_neg_log_loss))\n",
    "\n",
    "# save results to df\n",
    "model_eval = pd.DataFrame(data=zip(clf_names, f1, acc, roc_auc, log_loss),\n",
    "                          columns=eval_cols)\n",
    "\n",
    "display(model_eval)"
   ]
  },
  {
   "cell_type": "markdown",
   "metadata": {},
   "source": [
    "Overall, the XGBoost model was the best with better combination of f1 score, roc auc and log loss. I will make the prediction using it."
   ]
  },
  {
   "cell_type": "code",
   "execution_count": 36,
   "metadata": {},
   "outputs": [
    {
     "data": {
      "text/html": [
       "<div>\n",
       "<style scoped>\n",
       "    .dataframe tbody tr th:only-of-type {\n",
       "        vertical-align: middle;\n",
       "    }\n",
       "\n",
       "    .dataframe tbody tr th {\n",
       "        vertical-align: top;\n",
       "    }\n",
       "\n",
       "    .dataframe thead th {\n",
       "        text-align: right;\n",
       "    }\n",
       "</style>\n",
       "<table border=\"1\" class=\"dataframe\">\n",
       "  <thead>\n",
       "    <tr style=\"text-align: right;\">\n",
       "      <th></th>\n",
       "      <th>Double</th>\n",
       "      <th>HomeRun</th>\n",
       "      <th>Out</th>\n",
       "      <th>Single</th>\n",
       "      <th>Triple</th>\n",
       "    </tr>\n",
       "  </thead>\n",
       "  <tbody>\n",
       "    <tr>\n",
       "      <th>0</th>\n",
       "      <td>0.013125</td>\n",
       "      <td>0.002463</td>\n",
       "      <td>0.405336</td>\n",
       "      <td>0.576670</td>\n",
       "      <td>0.002406</td>\n",
       "    </tr>\n",
       "    <tr>\n",
       "      <th>1</th>\n",
       "      <td>0.006197</td>\n",
       "      <td>0.001341</td>\n",
       "      <td>0.679590</td>\n",
       "      <td>0.311756</td>\n",
       "      <td>0.001116</td>\n",
       "    </tr>\n",
       "    <tr>\n",
       "      <th>2</th>\n",
       "      <td>0.278198</td>\n",
       "      <td>0.001274</td>\n",
       "      <td>0.556532</td>\n",
       "      <td>0.161490</td>\n",
       "      <td>0.002505</td>\n",
       "    </tr>\n",
       "    <tr>\n",
       "      <th>3</th>\n",
       "      <td>0.022775</td>\n",
       "      <td>0.001588</td>\n",
       "      <td>0.413983</td>\n",
       "      <td>0.559204</td>\n",
       "      <td>0.002450</td>\n",
       "    </tr>\n",
       "    <tr>\n",
       "      <th>4</th>\n",
       "      <td>0.008117</td>\n",
       "      <td>0.001791</td>\n",
       "      <td>0.854845</td>\n",
       "      <td>0.133951</td>\n",
       "      <td>0.001296</td>\n",
       "    </tr>\n",
       "    <tr>\n",
       "      <th>...</th>\n",
       "      <td>...</td>\n",
       "      <td>...</td>\n",
       "      <td>...</td>\n",
       "      <td>...</td>\n",
       "      <td>...</td>\n",
       "    </tr>\n",
       "    <tr>\n",
       "      <th>10838</th>\n",
       "      <td>0.115632</td>\n",
       "      <td>0.309597</td>\n",
       "      <td>0.542037</td>\n",
       "      <td>0.018721</td>\n",
       "      <td>0.014012</td>\n",
       "    </tr>\n",
       "    <tr>\n",
       "      <th>10839</th>\n",
       "      <td>0.091019</td>\n",
       "      <td>0.014651</td>\n",
       "      <td>0.712510</td>\n",
       "      <td>0.164413</td>\n",
       "      <td>0.017406</td>\n",
       "    </tr>\n",
       "    <tr>\n",
       "      <th>10840</th>\n",
       "      <td>0.034326</td>\n",
       "      <td>0.003106</td>\n",
       "      <td>0.411727</td>\n",
       "      <td>0.547865</td>\n",
       "      <td>0.002976</td>\n",
       "    </tr>\n",
       "    <tr>\n",
       "      <th>10841</th>\n",
       "      <td>0.068506</td>\n",
       "      <td>0.002443</td>\n",
       "      <td>0.093785</td>\n",
       "      <td>0.799056</td>\n",
       "      <td>0.036209</td>\n",
       "    </tr>\n",
       "    <tr>\n",
       "      <th>10842</th>\n",
       "      <td>0.039520</td>\n",
       "      <td>0.001727</td>\n",
       "      <td>0.454324</td>\n",
       "      <td>0.501577</td>\n",
       "      <td>0.002851</td>\n",
       "    </tr>\n",
       "  </tbody>\n",
       "</table>\n",
       "<p>10843 rows × 5 columns</p>\n",
       "</div>"
      ],
      "text/plain": [
       "         Double   HomeRun       Out    Single    Triple\n",
       "0      0.013125  0.002463  0.405336  0.576670  0.002406\n",
       "1      0.006197  0.001341  0.679590  0.311756  0.001116\n",
       "2      0.278198  0.001274  0.556532  0.161490  0.002505\n",
       "3      0.022775  0.001588  0.413983  0.559204  0.002450\n",
       "4      0.008117  0.001791  0.854845  0.133951  0.001296\n",
       "...         ...       ...       ...       ...       ...\n",
       "10838  0.115632  0.309597  0.542037  0.018721  0.014012\n",
       "10839  0.091019  0.014651  0.712510  0.164413  0.017406\n",
       "10840  0.034326  0.003106  0.411727  0.547865  0.002976\n",
       "10841  0.068506  0.002443  0.093785  0.799056  0.036209\n",
       "10842  0.039520  0.001727  0.454324  0.501577  0.002851\n",
       "\n",
       "[10843 rows x 5 columns]"
      ]
     },
     "execution_count": 36,
     "metadata": {},
     "output_type": "execute_result"
    }
   ],
   "source": [
    "model=XGBClassifier()\n",
    "model.fit(X, y)\n",
    "hit_probs = pd.DataFrame(model.predict_proba(X), columns=model.classes_)\n",
    "hit_probs"
   ]
  },
  {
   "cell_type": "markdown",
   "metadata": {},
   "source": [
    "Separate the df_trackman_xwOBA into three:\n",
    "1. df_trackman_xwOBA_contact_known: the one that I built earlier for those contact plays with exit velo, launch angle data\n",
    "2. df_trackman_xwOBA_contact_unknown: those contct plays without exit velo, launch angle data\n",
    "3. df_trackman_xwOBA_noncontact: non-contact plays"
   ]
  },
  {
   "cell_type": "code",
   "execution_count": 37,
   "metadata": {},
   "outputs": [],
   "source": [
    "df_trackman_xwOBA_contact = df_trackman_xwOBA[df_trackman_xwOBA['PlayResult'].isin(['Out', 'Single', 'Double', 'Triple', 'HomeRun'])]\n",
    "df_trackman_xwOBA_contact_unknown = df_trackman_xwOBA_contact[df_trackman_xwOBA_contact.ExitSpeed.isnull()]\n",
    "df_trackman_xwOBA_noncontact = df_trackman_xwOBA[df_trackman_xwOBA['PlayResult'].isin(['Walk', 'HitByPitch'])]"
   ]
  },
  {
   "cell_type": "markdown",
   "metadata": {},
   "source": [
    "Minor adjustments to join the tables together"
   ]
  },
  {
   "cell_type": "code",
   "execution_count": 38,
   "metadata": {},
   "outputs": [
    {
     "name": "stderr",
     "output_type": "stream",
     "text": [
      "C:\\Users\\allen\\anaconda3\\lib\\site-packages\\ipykernel_launcher.py:4: SettingWithCopyWarning: \n",
      "A value is trying to be set on a copy of a slice from a DataFrame.\n",
      "Try using .loc[row_indexer,col_indexer] = value instead\n",
      "\n",
      "See the caveats in the documentation: https://pandas.pydata.org/pandas-docs/stable/user_guide/indexing.html#returning-a-view-versus-a-copy\n",
      "  after removing the cwd from sys.path.\n",
      "C:\\Users\\allen\\anaconda3\\lib\\site-packages\\ipykernel_launcher.py:5: SettingWithCopyWarning: \n",
      "A value is trying to be set on a copy of a slice from a DataFrame.\n",
      "Try using .loc[row_indexer,col_indexer] = value instead\n",
      "\n",
      "See the caveats in the documentation: https://pandas.pydata.org/pandas-docs/stable/user_guide/indexing.html#returning-a-view-versus-a-copy\n",
      "  \"\"\"\n",
      "C:\\Users\\allen\\anaconda3\\lib\\site-packages\\ipykernel_launcher.py:6: SettingWithCopyWarning: \n",
      "A value is trying to be set on a copy of a slice from a DataFrame.\n",
      "Try using .loc[row_indexer,col_indexer] = value instead\n",
      "\n",
      "See the caveats in the documentation: https://pandas.pydata.org/pandas-docs/stable/user_guide/indexing.html#returning-a-view-versus-a-copy\n",
      "  \n",
      "C:\\Users\\allen\\anaconda3\\lib\\site-packages\\ipykernel_launcher.py:7: SettingWithCopyWarning: \n",
      "A value is trying to be set on a copy of a slice from a DataFrame.\n",
      "Try using .loc[row_indexer,col_indexer] = value instead\n",
      "\n",
      "See the caveats in the documentation: https://pandas.pydata.org/pandas-docs/stable/user_guide/indexing.html#returning-a-view-versus-a-copy\n",
      "  import sys\n",
      "C:\\Users\\allen\\anaconda3\\lib\\site-packages\\ipykernel_launcher.py:8: SettingWithCopyWarning: \n",
      "A value is trying to be set on a copy of a slice from a DataFrame.\n",
      "Try using .loc[row_indexer,col_indexer] = value instead\n",
      "\n",
      "See the caveats in the documentation: https://pandas.pydata.org/pandas-docs/stable/user_guide/indexing.html#returning-a-view-versus-a-copy\n",
      "  \n"
     ]
    }
   ],
   "source": [
    "df_trackman_xwOBA_contact_known = df_trackman_xwOBA_contact_known.reset_index()\n",
    "df_trackman_xwOBA_contact_known[['Double', 'HomeRun', 'Out', 'Single', 'Triple']] = hit_probs\n",
    "df_trackman_xwOBA_contact_known = df_trackman_xwOBA_contact_known.drop(columns=['index'])\n",
    "df_trackman_xwOBA_noncontact['Double']=np.zeros(len(df_trackman_xwOBA_noncontact))\n",
    "df_trackman_xwOBA_noncontact['HomeRun']=np.zeros(len(df_trackman_xwOBA_noncontact))\n",
    "df_trackman_xwOBA_noncontact['Out']=np.zeros(len(df_trackman_xwOBA_noncontact))\n",
    "df_trackman_xwOBA_noncontact['Single']=np.zeros(len(df_trackman_xwOBA_noncontact))\n",
    "df_trackman_xwOBA_noncontact['Triple']=np.zeros(len(df_trackman_xwOBA_noncontact))\n",
    "df_trackman_xwOBA_combine = pd.concat([df_trackman_xwOBA_contact_known, df_trackman_xwOBA_noncontact])\n",
    "\n",
    "# add marker for ball in play\n",
    "df_trackman_xwOBA_combine['contact'] = np.zeros(len(df_trackman_xwOBA_combine))\n",
    "df_trackman_xwOBA_combine.loc[df_trackman_xwOBA_combine['Double']!=0, 'contact'] = 1"
   ]
  },
  {
   "cell_type": "markdown",
   "metadata": {},
   "source": [
    "Now I'll write two functions: one for determing the xwOBA value of a PA, and one for determing the wOBA value of a PA."
   ]
  },
  {
   "cell_type": "code",
   "execution_count": 39,
   "metadata": {},
   "outputs": [],
   "source": [
    "def calc_xwoba(data):\n",
    "    '''\n",
    "    Calculate the xwOBA value for a plate appearance. If PA ends on a ball put in play,\n",
    "    use hit probabilities to calculate expected wOBA. Else, use known wOBA value.\n",
    "\n",
    "    '''\n",
    "\n",
    "    if data['contact'] == 1:\n",
    "        xwoba = (data['Single'] * data['w1B'] + data['Double'] * data['w2B'] +\n",
    "                 data['Triple'] * data['w3B'] + data['HomeRun'] * data['wHR'])\n",
    "\n",
    "    elif data['PlayResult'] == 'Walk':\n",
    "        xwoba = data['wBB']\n",
    "\n",
    "    elif data['PlayResult'] == 'HitByPitch':\n",
    "        xwoba = data['wHBP']\n",
    "\n",
    "    return round(xwoba, 3)\n",
    "\n",
    "\n",
    "def calc_woba(data):\n",
    "    '''\n",
    "    Calculate the wOBA value for a plate appearance. Use the known wOBA value for each outcome.\n",
    "\n",
    "    '''\n",
    "\n",
    "    if data['PlayResult'] == 'Single':\n",
    "        woba = data['w1B']\n",
    "\n",
    "    elif data['PlayResult'] == 'Double':\n",
    "        woba = data['w2B']\n",
    "\n",
    "    elif data['PlayResult'] == 'Triple':\n",
    "        woba = data['w3B']\n",
    "\n",
    "    elif data['PlayResult'] == 'HomeRun':\n",
    "        woba = data['wHR']\n",
    "\n",
    "    elif data['PlayResult'] == 'Walk':\n",
    "        woba = data['wBB']\n",
    "\n",
    "    elif data['PlayResult'] == 'HitByPitch':\n",
    "        woba = data['wHBP']\n",
    "\n",
    "    else:\n",
    "        woba = 0\n",
    "\n",
    "    return round(woba, 3)"
   ]
  },
  {
   "cell_type": "code",
   "execution_count": 40,
   "metadata": {},
   "outputs": [],
   "source": [
    "# calculate xwOBA and wOBA for each PA\n",
    "df_trackman_xwOBA_combine['xwoba'] = df_trackman_xwOBA_combine.apply(calc_xwoba, axis=1)\n",
    "df_trackman_xwOBA_combine['woba'] = df_trackman_xwOBA_combine.apply(calc_woba, axis=1)"
   ]
  },
  {
   "cell_type": "markdown",
   "metadata": {},
   "source": [
    "Take a look at my df_blast_mean dataframe again"
   ]
  },
  {
   "cell_type": "code",
   "execution_count": 41,
   "metadata": {},
   "outputs": [
    {
     "data": {
      "text/html": [
       "<div>\n",
       "<style scoped>\n",
       "    .dataframe tbody tr th:only-of-type {\n",
       "        vertical-align: middle;\n",
       "    }\n",
       "\n",
       "    .dataframe tbody tr th {\n",
       "        vertical-align: top;\n",
       "    }\n",
       "\n",
       "    .dataframe thead th {\n",
       "        text-align: right;\n",
       "    }\n",
       "</style>\n",
       "<table border=\"1\" class=\"dataframe\">\n",
       "  <thead>\n",
       "    <tr style=\"text-align: right;\">\n",
       "      <th></th>\n",
       "      <th>AttackAngle</th>\n",
       "      <th>BatSpeed</th>\n",
       "      <th>Connection</th>\n",
       "      <th>EarlyConnection</th>\n",
       "      <th>PlanarEfficiency</th>\n",
       "      <th>RotationalAcceleration</th>\n",
       "      <th>labels</th>\n",
       "    </tr>\n",
       "    <tr>\n",
       "      <th>BatterId</th>\n",
       "      <th></th>\n",
       "      <th></th>\n",
       "      <th></th>\n",
       "      <th></th>\n",
       "      <th></th>\n",
       "      <th></th>\n",
       "      <th></th>\n",
       "    </tr>\n",
       "  </thead>\n",
       "  <tbody>\n",
       "    <tr>\n",
       "      <th>002a3a2c</th>\n",
       "      <td>0.143681</td>\n",
       "      <td>31.354873</td>\n",
       "      <td>1.252272</td>\n",
       "      <td>1.285903</td>\n",
       "      <td>0.802534</td>\n",
       "      <td>192.123135</td>\n",
       "      <td>0</td>\n",
       "    </tr>\n",
       "    <tr>\n",
       "      <th>02923b59</th>\n",
       "      <td>0.101737</td>\n",
       "      <td>30.133884</td>\n",
       "      <td>1.375228</td>\n",
       "      <td>1.617774</td>\n",
       "      <td>0.591748</td>\n",
       "      <td>58.980982</td>\n",
       "      <td>2</td>\n",
       "    </tr>\n",
       "    <tr>\n",
       "      <th>0325748c</th>\n",
       "      <td>0.146599</td>\n",
       "      <td>31.630133</td>\n",
       "      <td>1.308664</td>\n",
       "      <td>1.363582</td>\n",
       "      <td>0.706607</td>\n",
       "      <td>138.922948</td>\n",
       "      <td>0</td>\n",
       "    </tr>\n",
       "    <tr>\n",
       "      <th>0fa51742</th>\n",
       "      <td>0.167412</td>\n",
       "      <td>31.143447</td>\n",
       "      <td>1.546772</td>\n",
       "      <td>1.840998</td>\n",
       "      <td>0.656088</td>\n",
       "      <td>148.340924</td>\n",
       "      <td>3</td>\n",
       "    </tr>\n",
       "    <tr>\n",
       "      <th>121483c1</th>\n",
       "      <td>0.069697</td>\n",
       "      <td>30.940481</td>\n",
       "      <td>1.410839</td>\n",
       "      <td>1.589855</td>\n",
       "      <td>0.792978</td>\n",
       "      <td>151.870574</td>\n",
       "      <td>0</td>\n",
       "    </tr>\n",
       "    <tr>\n",
       "      <th>...</th>\n",
       "      <td>...</td>\n",
       "      <td>...</td>\n",
       "      <td>...</td>\n",
       "      <td>...</td>\n",
       "      <td>...</td>\n",
       "      <td>...</td>\n",
       "      <td>...</td>\n",
       "    </tr>\n",
       "    <tr>\n",
       "      <th>f70b0d82</th>\n",
       "      <td>0.197305</td>\n",
       "      <td>32.519340</td>\n",
       "      <td>1.315247</td>\n",
       "      <td>1.603070</td>\n",
       "      <td>0.704143</td>\n",
       "      <td>115.056059</td>\n",
       "      <td>1</td>\n",
       "    </tr>\n",
       "    <tr>\n",
       "      <th>f7985ef1</th>\n",
       "      <td>0.193293</td>\n",
       "      <td>28.549342</td>\n",
       "      <td>1.246320</td>\n",
       "      <td>1.318045</td>\n",
       "      <td>0.802601</td>\n",
       "      <td>97.471247</td>\n",
       "      <td>2</td>\n",
       "    </tr>\n",
       "    <tr>\n",
       "      <th>f8c3e062</th>\n",
       "      <td>0.204387</td>\n",
       "      <td>30.358646</td>\n",
       "      <td>1.255127</td>\n",
       "      <td>1.498686</td>\n",
       "      <td>0.714045</td>\n",
       "      <td>102.217084</td>\n",
       "      <td>2</td>\n",
       "    </tr>\n",
       "    <tr>\n",
       "      <th>f98aa01e</th>\n",
       "      <td>0.188774</td>\n",
       "      <td>29.696390</td>\n",
       "      <td>1.338029</td>\n",
       "      <td>1.492144</td>\n",
       "      <td>0.694040</td>\n",
       "      <td>86.599052</td>\n",
       "      <td>2</td>\n",
       "    </tr>\n",
       "    <tr>\n",
       "      <th>fb7e9a26</th>\n",
       "      <td>0.133913</td>\n",
       "      <td>28.648303</td>\n",
       "      <td>1.266849</td>\n",
       "      <td>1.392805</td>\n",
       "      <td>0.780506</td>\n",
       "      <td>98.387080</td>\n",
       "      <td>2</td>\n",
       "    </tr>\n",
       "  </tbody>\n",
       "</table>\n",
       "<p>104 rows × 7 columns</p>\n",
       "</div>"
      ],
      "text/plain": [
       "          AttackAngle   BatSpeed  Connection  EarlyConnection  \\\n",
       "BatterId                                                        \n",
       "002a3a2c     0.143681  31.354873    1.252272         1.285903   \n",
       "02923b59     0.101737  30.133884    1.375228         1.617774   \n",
       "0325748c     0.146599  31.630133    1.308664         1.363582   \n",
       "0fa51742     0.167412  31.143447    1.546772         1.840998   \n",
       "121483c1     0.069697  30.940481    1.410839         1.589855   \n",
       "...               ...        ...         ...              ...   \n",
       "f70b0d82     0.197305  32.519340    1.315247         1.603070   \n",
       "f7985ef1     0.193293  28.549342    1.246320         1.318045   \n",
       "f8c3e062     0.204387  30.358646    1.255127         1.498686   \n",
       "f98aa01e     0.188774  29.696390    1.338029         1.492144   \n",
       "fb7e9a26     0.133913  28.648303    1.266849         1.392805   \n",
       "\n",
       "          PlanarEfficiency  RotationalAcceleration  labels  \n",
       "BatterId                                                    \n",
       "002a3a2c          0.802534              192.123135       0  \n",
       "02923b59          0.591748               58.980982       2  \n",
       "0325748c          0.706607              138.922948       0  \n",
       "0fa51742          0.656088              148.340924       3  \n",
       "121483c1          0.792978              151.870574       0  \n",
       "...                    ...                     ...     ...  \n",
       "f70b0d82          0.704143              115.056059       1  \n",
       "f7985ef1          0.802601               97.471247       2  \n",
       "f8c3e062          0.714045              102.217084       2  \n",
       "f98aa01e          0.694040               86.599052       2  \n",
       "fb7e9a26          0.780506               98.387080       2  \n",
       "\n",
       "[104 rows x 7 columns]"
      ]
     },
     "execution_count": 41,
     "metadata": {},
     "output_type": "execute_result"
    }
   ],
   "source": [
    "df_blast_mean"
   ]
  },
  {
   "cell_type": "markdown",
   "metadata": {},
   "source": [
    "Combine the practice data (df_blast_mean) and in-game data (df_trackman_xwOBA_combine) together"
   ]
  },
  {
   "cell_type": "code",
   "execution_count": 42,
   "metadata": {},
   "outputs": [
    {
     "data": {
      "text/html": [
       "<div>\n",
       "<style scoped>\n",
       "    .dataframe tbody tr th:only-of-type {\n",
       "        vertical-align: middle;\n",
       "    }\n",
       "\n",
       "    .dataframe tbody tr th {\n",
       "        vertical-align: top;\n",
       "    }\n",
       "\n",
       "    .dataframe thead th {\n",
       "        text-align: right;\n",
       "    }\n",
       "</style>\n",
       "<table border=\"1\" class=\"dataframe\">\n",
       "  <thead>\n",
       "    <tr style=\"text-align: right;\">\n",
       "      <th></th>\n",
       "      <th>Date</th>\n",
       "      <th>Inning</th>\n",
       "      <th>Top</th>\n",
       "      <th>Outs</th>\n",
       "      <th>Balls</th>\n",
       "      <th>Strikes</th>\n",
       "      <th>PitcherId</th>\n",
       "      <th>BatterId</th>\n",
       "      <th>Bats</th>\n",
       "      <th>Throws</th>\n",
       "      <th>...</th>\n",
       "      <th>contact</th>\n",
       "      <th>xwoba</th>\n",
       "      <th>woba</th>\n",
       "      <th>AttackAngle</th>\n",
       "      <th>BatSpeed</th>\n",
       "      <th>Connection</th>\n",
       "      <th>EarlyConnection</th>\n",
       "      <th>PlanarEfficiency</th>\n",
       "      <th>RotationalAcceleration</th>\n",
       "      <th>labels</th>\n",
       "    </tr>\n",
       "  </thead>\n",
       "  <tbody>\n",
       "    <tr>\n",
       "      <th>0</th>\n",
       "      <td>2019-05-03</td>\n",
       "      <td>8</td>\n",
       "      <td>Bottom</td>\n",
       "      <td>1</td>\n",
       "      <td>2</td>\n",
       "      <td>2</td>\n",
       "      <td>67392fed</td>\n",
       "      <td>b4417992</td>\n",
       "      <td>Right</td>\n",
       "      <td>Right</td>\n",
       "      <td>...</td>\n",
       "      <td>1.0</td>\n",
       "      <td>0.526</td>\n",
       "      <td>0.87</td>\n",
       "      <td>0.327698</td>\n",
       "      <td>30.455056</td>\n",
       "      <td>1.350584</td>\n",
       "      <td>1.433203</td>\n",
       "      <td>0.761327</td>\n",
       "      <td>194.190842</td>\n",
       "      <td>1</td>\n",
       "    </tr>\n",
       "    <tr>\n",
       "      <th>1</th>\n",
       "      <td>2019-04-13</td>\n",
       "      <td>8</td>\n",
       "      <td>Bottom</td>\n",
       "      <td>1</td>\n",
       "      <td>0</td>\n",
       "      <td>0</td>\n",
       "      <td>be3a7aca</td>\n",
       "      <td>367fb7f9</td>\n",
       "      <td>Right</td>\n",
       "      <td>Left</td>\n",
       "      <td>...</td>\n",
       "      <td>1.0</td>\n",
       "      <td>0.283</td>\n",
       "      <td>0.00</td>\n",
       "      <td>0.260505</td>\n",
       "      <td>31.732834</td>\n",
       "      <td>1.546902</td>\n",
       "      <td>1.519724</td>\n",
       "      <td>0.719052</td>\n",
       "      <td>144.450985</td>\n",
       "      <td>1</td>\n",
       "    </tr>\n",
       "    <tr>\n",
       "      <th>2</th>\n",
       "      <td>2019-05-07</td>\n",
       "      <td>2</td>\n",
       "      <td>Bottom</td>\n",
       "      <td>0</td>\n",
       "      <td>1</td>\n",
       "      <td>0</td>\n",
       "      <td>b1b82ec8</td>\n",
       "      <td>b4417992</td>\n",
       "      <td>Right</td>\n",
       "      <td>Left</td>\n",
       "      <td>...</td>\n",
       "      <td>1.0</td>\n",
       "      <td>0.485</td>\n",
       "      <td>0.00</td>\n",
       "      <td>0.327698</td>\n",
       "      <td>30.455056</td>\n",
       "      <td>1.350584</td>\n",
       "      <td>1.433203</td>\n",
       "      <td>0.761327</td>\n",
       "      <td>194.190842</td>\n",
       "      <td>1</td>\n",
       "    </tr>\n",
       "    <tr>\n",
       "      <th>3</th>\n",
       "      <td>2019-04-10</td>\n",
       "      <td>2</td>\n",
       "      <td>Bottom</td>\n",
       "      <td>0</td>\n",
       "      <td>0</td>\n",
       "      <td>2</td>\n",
       "      <td>437d8c83</td>\n",
       "      <td>741921ec</td>\n",
       "      <td>Right</td>\n",
       "      <td>Left</td>\n",
       "      <td>...</td>\n",
       "      <td>1.0</td>\n",
       "      <td>0.521</td>\n",
       "      <td>0.00</td>\n",
       "      <td>0.079232</td>\n",
       "      <td>31.690686</td>\n",
       "      <td>1.360946</td>\n",
       "      <td>1.524809</td>\n",
       "      <td>0.666527</td>\n",
       "      <td>129.875616</td>\n",
       "      <td>0</td>\n",
       "    </tr>\n",
       "    <tr>\n",
       "      <th>4</th>\n",
       "      <td>2019-05-17</td>\n",
       "      <td>3</td>\n",
       "      <td>Bottom</td>\n",
       "      <td>0</td>\n",
       "      <td>2</td>\n",
       "      <td>0</td>\n",
       "      <td>245b80b8</td>\n",
       "      <td>b4417992</td>\n",
       "      <td>Right</td>\n",
       "      <td>Right</td>\n",
       "      <td>...</td>\n",
       "      <td>1.0</td>\n",
       "      <td>0.132</td>\n",
       "      <td>0.00</td>\n",
       "      <td>0.327698</td>\n",
       "      <td>30.455056</td>\n",
       "      <td>1.350584</td>\n",
       "      <td>1.433203</td>\n",
       "      <td>0.761327</td>\n",
       "      <td>194.190842</td>\n",
       "      <td>1</td>\n",
       "    </tr>\n",
       "    <tr>\n",
       "      <th>...</th>\n",
       "      <td>...</td>\n",
       "      <td>...</td>\n",
       "      <td>...</td>\n",
       "      <td>...</td>\n",
       "      <td>...</td>\n",
       "      <td>...</td>\n",
       "      <td>...</td>\n",
       "      <td>...</td>\n",
       "      <td>...</td>\n",
       "      <td>...</td>\n",
       "      <td>...</td>\n",
       "      <td>...</td>\n",
       "      <td>...</td>\n",
       "      <td>...</td>\n",
       "      <td>...</td>\n",
       "      <td>...</td>\n",
       "      <td>...</td>\n",
       "      <td>...</td>\n",
       "      <td>...</td>\n",
       "      <td>...</td>\n",
       "      <td>...</td>\n",
       "    </tr>\n",
       "    <tr>\n",
       "      <th>12792</th>\n",
       "      <td>2019-08-15</td>\n",
       "      <td>1</td>\n",
       "      <td>Bottom</td>\n",
       "      <td>1</td>\n",
       "      <td>3</td>\n",
       "      <td>0</td>\n",
       "      <td>ef1db951</td>\n",
       "      <td>5070f997</td>\n",
       "      <td>Left</td>\n",
       "      <td>Right</td>\n",
       "      <td>...</td>\n",
       "      <td>0.0</td>\n",
       "      <td>0.690</td>\n",
       "      <td>0.69</td>\n",
       "      <td>0.140097</td>\n",
       "      <td>35.364663</td>\n",
       "      <td>1.284470</td>\n",
       "      <td>1.686195</td>\n",
       "      <td>0.690270</td>\n",
       "      <td>152.497806</td>\n",
       "      <td>0</td>\n",
       "    </tr>\n",
       "    <tr>\n",
       "      <th>12793</th>\n",
       "      <td>2019-08-15</td>\n",
       "      <td>2</td>\n",
       "      <td>Bottom</td>\n",
       "      <td>2</td>\n",
       "      <td>3</td>\n",
       "      <td>2</td>\n",
       "      <td>ef1db951</td>\n",
       "      <td>38598587</td>\n",
       "      <td>Left</td>\n",
       "      <td>Right</td>\n",
       "      <td>...</td>\n",
       "      <td>0.0</td>\n",
       "      <td>0.690</td>\n",
       "      <td>0.69</td>\n",
       "      <td>0.206223</td>\n",
       "      <td>27.439035</td>\n",
       "      <td>1.628445</td>\n",
       "      <td>2.041538</td>\n",
       "      <td>0.649736</td>\n",
       "      <td>129.359596</td>\n",
       "      <td>3</td>\n",
       "    </tr>\n",
       "    <tr>\n",
       "      <th>12794</th>\n",
       "      <td>2019-08-15</td>\n",
       "      <td>5</td>\n",
       "      <td>Bottom</td>\n",
       "      <td>0</td>\n",
       "      <td>3</td>\n",
       "      <td>1</td>\n",
       "      <td>ef1db951</td>\n",
       "      <td>38598587</td>\n",
       "      <td>Left</td>\n",
       "      <td>Right</td>\n",
       "      <td>...</td>\n",
       "      <td>0.0</td>\n",
       "      <td>0.690</td>\n",
       "      <td>0.69</td>\n",
       "      <td>0.206223</td>\n",
       "      <td>27.439035</td>\n",
       "      <td>1.628445</td>\n",
       "      <td>2.041538</td>\n",
       "      <td>0.649736</td>\n",
       "      <td>129.359596</td>\n",
       "      <td>3</td>\n",
       "    </tr>\n",
       "    <tr>\n",
       "      <th>12795</th>\n",
       "      <td>2019-08-15</td>\n",
       "      <td>2</td>\n",
       "      <td>Bottom</td>\n",
       "      <td>0</td>\n",
       "      <td>3</td>\n",
       "      <td>0</td>\n",
       "      <td>ef1db951</td>\n",
       "      <td>e28cf85c</td>\n",
       "      <td>Left</td>\n",
       "      <td>Right</td>\n",
       "      <td>...</td>\n",
       "      <td>0.0</td>\n",
       "      <td>0.690</td>\n",
       "      <td>0.69</td>\n",
       "      <td>0.265180</td>\n",
       "      <td>31.333590</td>\n",
       "      <td>1.066597</td>\n",
       "      <td>1.270858</td>\n",
       "      <td>0.807781</td>\n",
       "      <td>217.441935</td>\n",
       "      <td>1</td>\n",
       "    </tr>\n",
       "    <tr>\n",
       "      <th>12796</th>\n",
       "      <td>2019-08-15</td>\n",
       "      <td>9</td>\n",
       "      <td>Bottom</td>\n",
       "      <td>2</td>\n",
       "      <td>3</td>\n",
       "      <td>0</td>\n",
       "      <td>5fc43dc2</td>\n",
       "      <td>38598587</td>\n",
       "      <td>Left</td>\n",
       "      <td>Right</td>\n",
       "      <td>...</td>\n",
       "      <td>0.0</td>\n",
       "      <td>0.690</td>\n",
       "      <td>0.69</td>\n",
       "      <td>0.206223</td>\n",
       "      <td>27.439035</td>\n",
       "      <td>1.628445</td>\n",
       "      <td>2.041538</td>\n",
       "      <td>0.649736</td>\n",
       "      <td>129.359596</td>\n",
       "      <td>3</td>\n",
       "    </tr>\n",
       "  </tbody>\n",
       "</table>\n",
       "<p>12797 rows × 45 columns</p>\n",
       "</div>"
      ],
      "text/plain": [
       "             Date  Inning     Top  Outs  Balls  Strikes PitcherId  BatterId  \\\n",
       "0      2019-05-03       8  Bottom     1      2        2  67392fed  b4417992   \n",
       "1      2019-04-13       8  Bottom     1      0        0  be3a7aca  367fb7f9   \n",
       "2      2019-05-07       2  Bottom     0      1        0  b1b82ec8  b4417992   \n",
       "3      2019-04-10       2  Bottom     0      0        2  437d8c83  741921ec   \n",
       "4      2019-05-17       3  Bottom     0      2        0  245b80b8  b4417992   \n",
       "...           ...     ...     ...   ...    ...      ...       ...       ...   \n",
       "12792  2019-08-15       1  Bottom     1      3        0  ef1db951  5070f997   \n",
       "12793  2019-08-15       2  Bottom     2      3        2  ef1db951  38598587   \n",
       "12794  2019-08-15       5  Bottom     0      3        1  ef1db951  38598587   \n",
       "12795  2019-08-15       2  Bottom     0      3        0  ef1db951  e28cf85c   \n",
       "12796  2019-08-15       9  Bottom     2      3        0  5fc43dc2  38598587   \n",
       "\n",
       "        Bats Throws  ...  contact  xwoba  woba  AttackAngle   BatSpeed  \\\n",
       "0      Right  Right  ...      1.0  0.526  0.87     0.327698  30.455056   \n",
       "1      Right   Left  ...      1.0  0.283  0.00     0.260505  31.732834   \n",
       "2      Right   Left  ...      1.0  0.485  0.00     0.327698  30.455056   \n",
       "3      Right   Left  ...      1.0  0.521  0.00     0.079232  31.690686   \n",
       "4      Right  Right  ...      1.0  0.132  0.00     0.327698  30.455056   \n",
       "...      ...    ...  ...      ...    ...   ...          ...        ...   \n",
       "12792   Left  Right  ...      0.0  0.690  0.69     0.140097  35.364663   \n",
       "12793   Left  Right  ...      0.0  0.690  0.69     0.206223  27.439035   \n",
       "12794   Left  Right  ...      0.0  0.690  0.69     0.206223  27.439035   \n",
       "12795   Left  Right  ...      0.0  0.690  0.69     0.265180  31.333590   \n",
       "12796   Left  Right  ...      0.0  0.690  0.69     0.206223  27.439035   \n",
       "\n",
       "       Connection  EarlyConnection  PlanarEfficiency  RotationalAcceleration  \\\n",
       "0        1.350584         1.433203          0.761327              194.190842   \n",
       "1        1.546902         1.519724          0.719052              144.450985   \n",
       "2        1.350584         1.433203          0.761327              194.190842   \n",
       "3        1.360946         1.524809          0.666527              129.875616   \n",
       "4        1.350584         1.433203          0.761327              194.190842   \n",
       "...           ...              ...               ...                     ...   \n",
       "12792    1.284470         1.686195          0.690270              152.497806   \n",
       "12793    1.628445         2.041538          0.649736              129.359596   \n",
       "12794    1.628445         2.041538          0.649736              129.359596   \n",
       "12795    1.066597         1.270858          0.807781              217.441935   \n",
       "12796    1.628445         2.041538          0.649736              129.359596   \n",
       "\n",
       "      labels  \n",
       "0          1  \n",
       "1          1  \n",
       "2          1  \n",
       "3          0  \n",
       "4          1  \n",
       "...      ...  \n",
       "12792      0  \n",
       "12793      3  \n",
       "12794      3  \n",
       "12795      1  \n",
       "12796      3  \n",
       "\n",
       "[12797 rows x 45 columns]"
      ]
     },
     "execution_count": 42,
     "metadata": {},
     "output_type": "execute_result"
    }
   ],
   "source": [
    "df_trackman_xwOBA_combine = df_trackman_xwOBA_combine.merge(df_blast_mean, how='left', on='BatterId')\n",
    "df_trackman_xwOBA_combine"
   ]
  },
  {
   "cell_type": "code",
   "execution_count": 43,
   "metadata": {},
   "outputs": [
    {
     "name": "stdout",
     "output_type": "stream",
     "text": [
      "<class 'pandas.core.frame.DataFrame'>\n",
      "Int64Index: 12797 entries, 0 to 12796\n",
      "Data columns (total 45 columns):\n",
      " #   Column                  Non-Null Count  Dtype  \n",
      "---  ------                  --------------  -----  \n",
      " 0   Date                    12797 non-null  object \n",
      " 1   Inning                  12797 non-null  int64  \n",
      " 2   Top                     12797 non-null  object \n",
      " 3   Outs                    12797 non-null  int64  \n",
      " 4   Balls                   12797 non-null  int64  \n",
      " 5   Strikes                 12797 non-null  int64  \n",
      " 6   PitcherId               12797 non-null  object \n",
      " 7   BatterId                12797 non-null  object \n",
      " 8   Bats                    12797 non-null  object \n",
      " 9   Throws                  12797 non-null  object \n",
      " 10  PitchNumber             12797 non-null  int64  \n",
      " 11  PAofInning              12797 non-null  int64  \n",
      " 12  PitchofPA               12797 non-null  int64  \n",
      " 13  PlateSide               12783 non-null  float64\n",
      " 14  PlateHeight             12783 non-null  float64\n",
      " 15  ExitSpeed               10883 non-null  float64\n",
      " 16  VertAngle               10883 non-null  float64\n",
      " 17  HorzAngle               10883 non-null  float64\n",
      " 18  HitSpinRate             7878 non-null   float64\n",
      " 19  PitchType               12797 non-null  object \n",
      " 20  PitchCall               12797 non-null  object \n",
      " 21  PlayResult              12797 non-null  object \n",
      " 22  HitType                 12797 non-null  object \n",
      " 23  wBB                     12797 non-null  float64\n",
      " 24  wHBP                    12797 non-null  float64\n",
      " 25  w1B                     12797 non-null  float64\n",
      " 26  w2B                     12797 non-null  float64\n",
      " 27  w3B                     12797 non-null  float64\n",
      " 28  wHR                     12797 non-null  float64\n",
      " 29  is_Right                10843 non-null  float64\n",
      " 30  Double                  12797 non-null  float64\n",
      " 31  HomeRun                 12797 non-null  float64\n",
      " 32  Out                     12797 non-null  float64\n",
      " 33  Single                  12797 non-null  float64\n",
      " 34  Triple                  12797 non-null  float64\n",
      " 35  contact                 12797 non-null  float64\n",
      " 36  xwoba                   12797 non-null  float64\n",
      " 37  woba                    12797 non-null  float64\n",
      " 38  AttackAngle             12797 non-null  float64\n",
      " 39  BatSpeed                12797 non-null  float64\n",
      " 40  Connection              12797 non-null  float64\n",
      " 41  EarlyConnection         12797 non-null  float64\n",
      " 42  PlanarEfficiency        12797 non-null  float64\n",
      " 43  RotationalAcceleration  12797 non-null  float64\n",
      " 44  labels                  12797 non-null  int32  \n",
      "dtypes: float64(27), int32(1), int64(7), object(10)\n",
      "memory usage: 4.4+ MB\n"
     ]
    }
   ],
   "source": [
    "df_trackman_xwOBA_combine.info()"
   ]
  },
  {
   "cell_type": "markdown",
   "metadata": {},
   "source": [
    "## Analysis"
   ]
  },
  {
   "cell_type": "markdown",
   "metadata": {},
   "source": [
    "All in all, I used cluster analysis on practice data (blast) and come up with four groups. To make development plans for them, I have to see the characteristics of these four groups and their respective in-game performance. xwOBA for those contact plays is my choice to evaluate their performance. "
   ]
  },
  {
   "cell_type": "code",
   "execution_count": 44,
   "metadata": {},
   "outputs": [
    {
     "data": {
      "text/plain": [
       "labels\n",
       "0    0.423701\n",
       "1    0.398724\n",
       "2    0.309546\n",
       "3    0.378648\n",
       "Name: xwoba, dtype: float64"
      ]
     },
     "execution_count": 44,
     "metadata": {},
     "output_type": "execute_result"
    }
   ],
   "source": [
    "df_trackman_xwOBA_combine_contact = df_trackman_xwOBA_combine[df_trackman_xwOBA_combine.ExitSpeed.notnull()]\n",
    "df_trackman_xwOBA_combine_contact.groupby('labels').mean()['xwoba']"
   ]
  },
  {
   "cell_type": "markdown",
   "metadata": {},
   "source": [
    "I take a look at wOBA as well to not only evaluate their performance, but also check if my classification models is effective. Judging from similar numbers for xwOBA and wOBA, it seems alright."
   ]
  },
  {
   "cell_type": "code",
   "execution_count": 45,
   "metadata": {},
   "outputs": [
    {
     "data": {
      "text/plain": [
       "labels\n",
       "0    0.421520\n",
       "1    0.405644\n",
       "2    0.301480\n",
       "3    0.369324\n",
       "Name: woba, dtype: float64"
      ]
     },
     "execution_count": 45,
     "metadata": {},
     "output_type": "execute_result"
    }
   ],
   "source": [
    "df_trackman_xwOBA_combine_contact.groupby('labels').mean()['woba']"
   ]
  },
  {
   "cell_type": "code",
   "execution_count": 46,
   "metadata": {},
   "outputs": [
    {
     "data": {
      "text/plain": [
       "<matplotlib.axes._subplots.AxesSubplot at 0x1937cf8a978>"
      ]
     },
     "execution_count": 46,
     "metadata": {},
     "output_type": "execute_result"
    },
    {
     "data": {
      "image/png": "[encoded data removed]",
      "text/plain": [
       "<Figure size 432x288 with 1 Axes>"
      ]
     },
     "metadata": {
      "needs_background": "light"
     },
     "output_type": "display_data"
    }
   ],
   "source": [
    "results = pd.DataFrame(columns=['Variable', 'Var'])\n",
    "\n",
    "for column in df_mean.columns[0:6]:\n",
    "    results.loc[len(results), :] = [column, np.var(df_mean[column])]\n",
    "selected_columns = list(results.sort_values('Var', ascending=False).head(6).Variable.values) + ['labels']\n",
    "tidy = df_scaled[selected_columns].melt(id_vars='labels')\n",
    "sns.barplot(x='labels', y='value', hue='variable', data=tidy)"
   ]
  },
  {
   "cell_type": "markdown",
   "metadata": {},
   "source": [
    "There are two parameters that we can adjust for cluster_report: min_samples_leaf and pruning_level. Those parameters are controlling the decision tree complexity. To get a more general rule, we could increase the value of min_samples_leaf or pruning_level. Otherwise, if we want to get a more detail rule, we could decrease the value of min_samples_leaf or pruning_level."
   ]
  },
  {
   "cell_type": "code",
   "execution_count": 47,
   "metadata": {
    "scrolled": false
   },
   "outputs": [
    {
     "data": {
      "text/html": [
       "<table border=\"1\" class=\"dataframe\">\n",
       "  <thead>\n",
       "    <tr style=\"text-align: right;\">\n",
       "      <th></th>\n",
       "      <th>class_name</th>\n",
       "      <th>instance_count</th>\n",
       "      <th>rule_list</th>\n",
       "    </tr>\n",
       "  </thead>\n",
       "  <tbody>\n",
       "    <tr>\n",
       "      <th>2</th>\n",
       "      <td>0</td>\n",
       "      <td>23</td>\n",
       "      <td>[0.84] (EarlyConnection &lt;= 1.7521717548370361) and (AttackAngle &lt;= 0.1938438042998314) and (RotationalAcceleration &gt; 120.16216659545898)<br><br></td>\n",
       "    </tr>\n",
       "    <tr>\n",
       "      <th>1</th>\n",
       "      <td>1</td>\n",
       "      <td>27</td>\n",
       "      <td>[0.95] (EarlyConnection &lt;= 1.7521717548370361) and (AttackAngle &gt; 0.1938438042998314) and (EarlyConnection &lt;= 1.6067730784416199)<br><br></td>\n",
       "    </tr>\n",
       "    <tr>\n",
       "      <th>3</th>\n",
       "      <td>2</td>\n",
       "      <td>18</td>\n",
       "      <td>[0.8666666666666667] (EarlyConnection &lt;= 1.7521717548370361) and (AttackAngle &lt;= 0.1938438042998314) and (RotationalAcceleration &lt;= 120.16216659545898)<br><br></td>\n",
       "    </tr>\n",
       "    <tr>\n",
       "      <th>0</th>\n",
       "      <td>3</td>\n",
       "      <td>36</td>\n",
       "      <td>[0.47058823529411764] (EarlyConnection &lt;= 1.7521717548370361) and (AttackAngle &gt; 0.1938438042998314) and (EarlyConnection &gt; 1.6067730784416199)<br><br>[0.9629629629629629] (EarlyConnection &gt; 1.7521717548370361)<br><br></td>\n",
       "    </tr>\n",
       "  </tbody>\n",
       "</table>"
      ],
      "text/plain": [
       "<IPython.core.display.HTML object>"
      ]
     },
     "metadata": {},
     "output_type": "display_data"
    }
   ],
   "source": [
    "cluster_report(df_blast_mean.drop(['labels'], axis=1), df_blast_mean['labels'], min_samples_leaf=15, pruning_level=0.01)"
   ]
  },
  {
   "cell_type": "code",
   "execution_count": 48,
   "metadata": {},
   "outputs": [
    {
     "data": {
      "text/html": [
       "<table border=\"1\" class=\"dataframe\">\n",
       "  <thead>\n",
       "    <tr style=\"text-align: right;\">\n",
       "      <th></th>\n",
       "      <th>class_name</th>\n",
       "      <th>instance_count</th>\n",
       "      <th>rule_list</th>\n",
       "    </tr>\n",
       "  </thead>\n",
       "  <tbody>\n",
       "    <tr>\n",
       "      <th>2</th>\n",
       "      <td>0</td>\n",
       "      <td>23</td>\n",
       "      <td>[0.9545454545454546] (EarlyConnection &lt;= 1.7521717548370361) and (AttackAngle &lt;= 0.1938438042998314) and (BatSpeed &gt; 30.30543613433838) and (AttackAngle &lt;= 0.17615575343370438)<br><br>[0.4] (EarlyConnection &lt;= 1.7521717548370361) and (AttackAngle &lt;= 0.1938438042998314) and (BatSpeed &gt; 30.30543613433838) and (AttackAngle &gt; 0.17615575343370438)<br><br></td>\n",
       "    </tr>\n",
       "    <tr>\n",
       "      <th>1</th>\n",
       "      <td>1</td>\n",
       "      <td>27</td>\n",
       "      <td>[1.0] (EarlyConnection &lt;= 1.7521717548370361) and (AttackAngle &gt; 0.1938438042998314) and (PlanarEfficiency &gt; 0.6671400368213654) and (BatSpeed &gt; 30.50994300842285)<br><br></td>\n",
       "    </tr>\n",
       "    <tr>\n",
       "      <th>3</th>\n",
       "      <td>2</td>\n",
       "      <td>18</td>\n",
       "      <td>[1.0] (EarlyConnection &lt;= 1.7521717548370361) and (AttackAngle &lt;= 0.1938438042998314) and (BatSpeed &lt;= 30.30543613433838)<br><br>[0.6] (EarlyConnection &lt;= 1.7521717548370361) and (AttackAngle &gt; 0.1938438042998314) and (PlanarEfficiency &gt; 0.6671400368213654) and (BatSpeed &lt;= 30.50994300842285)<br><br></td>\n",
       "    </tr>\n",
       "    <tr>\n",
       "      <th>0</th>\n",
       "      <td>3</td>\n",
       "      <td>36</td>\n",
       "      <td>[0.8] (EarlyConnection &lt;= 1.7521717548370361) and (AttackAngle &gt; 0.1938438042998314) and (PlanarEfficiency &lt;= 0.6671400368213654)<br><br>[0.9629629629629629] (EarlyConnection &gt; 1.7521717548370361)<br><br></td>\n",
       "    </tr>\n",
       "  </tbody>\n",
       "</table>"
      ],
      "text/plain": [
       "<IPython.core.display.HTML object>"
      ]
     },
     "metadata": {},
     "output_type": "display_data"
    }
   ],
   "source": [
    "cluster_report(df_blast_mean.drop(['labels'], axis=1), df_blast_mean['labels'], min_samples_leaf=5, pruning_level=0.01)"
   ]
  },
  {
   "cell_type": "markdown",
   "metadata": {
    "scrolled": true
   },
   "source": [
    "## Improvement Plans"
   ]
  },
  {
   "cell_type": "markdown",
   "metadata": {},
   "source": [
    "Finally I will combine what I see from the barplot, rules, their xwOBA and come up with improvement plans."
   ]
  },
  {
   "cell_type": "markdown",
   "metadata": {},
   "source": [
    "Batters in cluster 0 seem to have the best performance. When we look at their clustering feature, (EarlyConnection <= 1.7521717548370361) and (AttackAngle <= 0.1938438042998314) and (BatSpeed > 30.30543613433838) are the general rules. Maintaining those would be my first suggestion. At the same time, they could try on different hitting strategies to see if the variation in other Blast Motion data can lead to better performance. But I think it is more case by case and individuals should focus on maintaining the three features when trying to make minor adjustments.\n",
    "\n",
    "For a better performance, I would suggest batters in cluster 2, who already possess the features (EarlyConnection <= 1.7521717548370361) and (AttackAngle <= 0.1938438042998314), to work on BatSpeed. I would be really curious about how they perform in games if they push their BatSpeed over the threshold 30.3. Although having the worst xwOBA value in games, they are actually not that far away from cluster 0 Blast Motion-wise. \n",
    "\n",
    "As for batters in cluster 1, they already possess similar EarlyConnection and  BatSpeed as those in cluster 0. Decreasing their AttackAngle could be beneficial for them to catch players in cluster 0. \n",
    "\n",
    "As for batters in cluster 3, they could start by decreasing PlanarEfficiency to catch players in cluster 1, since they already possess similar EarlyConnection and AttackAngle. Decreasing their AttackAngle could be their next step. \n",
    "\n",
    "All in all, this project provides general rules for players to make adjustments with their Blast Motion data in order for a better performance on the field. "
   ]
  }
 ],
 "metadata": {
  "kernelspec": {
   "display_name": "Python 3",
   "language": "python",
   "name": "python3"
  },
  "language_info": {
   "codemirror_mode": {
    "name": "ipython",
    "version": 3
   },
   "file_extension": ".py",
   "mimetype": "text/x-python",
   "name": "python",
   "nbconvert_exporter": "python",
   "pygments_lexer": "ipython3",
   "version": "3.6.10"
  }
 },
 "nbformat": 4,
 "nbformat_minor": 4
}
